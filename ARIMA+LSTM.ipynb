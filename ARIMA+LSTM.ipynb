{
  "cells": [
    {
      "cell_type": "code",
      "execution_count": 1,
      "metadata": {
        "id": "M3JFcVBtLllZ"
      },
      "outputs": [],
      "source": [
        "#this notebook is based on Igor Halperin's notebook: Trading Strategy based on PCA\n",
        "#Please install: conda install -c desilinguist factor_analyzer==0.3.2"
      ]
    },
    {
      "cell_type": "markdown",
      "metadata": {
        "id": "m3C6tqmxLllb"
      },
      "source": [
        "# Trading Strategy based on PCA\n",
        "\n",
        "**For this project you will:**\n",
        "- Read: https://www.researchgate.net/publication/228140014_Principal_Components_as_a_Measure_of_Systemic_Risk\n",
        "- Understand how to use PCA to calculate a measure of market systemic risk (the absorption rato) as per this paper.\n",
        "- Understand the use of the absorption ratio in a portfolio trading strategy (code provided in this notebook)\n",
        "\n",
        "-Read: https://arxiv.org/abs/1808.01560\n",
        "-Watch the video in: https://drive.google.com/drive/folders/1rAjuAQF9B6xEi39pKMnjdea-oTx0PGqL?usp=sharing\n",
        "- Understand how to use an ARIMA+LSTM model to predict stock correlations as per this paper.\n",
        "- Construct the ARIMA + LSTM model with the code provided in the appendix of this paper.\n",
        "- Replace the covariance matrix in this notebook, cov_mat (see code below), with predicted_cov_mat. At present, cov_mat = ret_frame.cov().\n",
        "-To construct predicted_cov_mat, calculate the covariance matrix as shown in PortfolioPresentationPart1.pptx slide 17 where the correlations are indicated with the Greek letter rho (see slide 13 for reference). Obtain the correlations by predicting them with the ARIMA + LSTM model. As per slide 17, you also need the variances indicated with the Greek letter sigma (see slide 9 for reference). A variance is just the covariance of an asset with itself.  You can predict these variances using the ARIMA + LSTM model also or you can just estimate them from historical data (as long as the lookbacks you use are consistent with the lookbacks used in the ARIMA + LSTM model). To predict the covariance of an asset with itself using an ARIMA + LSTM model, there is a shortcut: predict the squared returns series.\n",
        "- Once you have replaced cov_mat with predicted_cov_mat, run this notebook and comment on the results: are they better than when using the original covariance matrix?\n",
        "- You can use fewer stocks to limit the calculation time.\n",
        "\n",
        "**Installation Instructions:**\n",
        "- conda install -c desilinguist factor_analyzer"
      ]
    },
    {
      "cell_type": "markdown",
      "metadata": {
        "id": "lHytWhaXLlld"
      },
      "source": [
        "The absorption ratio was introduced by Kritzman and others in the 2010 paper, Principal Components as a Measure of Systemic Risk. The authors described the ratio as an implied measure of systemic risk that captures the extent to which markets are unified or tightly coupled.\n",
        "\n",
        "The basic idea is to use building blocks of sub-assets to see how tightly a system of assets is trading. In this notebook we’ll use U.S. industries as the building blocks to examine the U.S. stock market. More specifically, we’ll examine linear combinations of U.S. industries  that explain the variance of the U.S. stock market. Principal Component Analysis solves this objective iteratively. PCA finds the linear combination of industries that explain the most amount of the market’s variance. Then it finds the next linear combination of industries that explain the most amount of left over variance (that is not explained by the first combination of industries). This process will be repeated until all of the variance has been explained. The absorption ratio gets its name from the idea of calculating how much of the market’s variance is “absorbed” by the first 20% of combinations of industries.\n",
        "\n",
        "According to the paper, there are two steps to calculating a meaningful absorption ratio (AR). The first is to calculate the AR ratio and the second involves finding the standardized change of the AR ratio over time. The standardized change is essentially a z-score to allow us to detect high outliers of change.\n",
        "\n",
        "STEP 1: Formally, the ratio is defined by the variance absorbed by the first n eigenvectors:"
      ]
    },
    {
      "cell_type": "markdown",
      "metadata": {
        "id": "7wK5FtucLlld"
      },
      "source": [
        "![AR_Ratio.PNG](attachment:AR_Ratio.PNG)"
      ]
    },
    {
      "cell_type": "markdown",
      "metadata": {
        "id": "LhyvZaxNLlld"
      },
      "source": [
        "The numerator equals the cumulative portion explained by the first n eigenvectors (i.e. the first n linear combinations of industries). And the denominator equals the total variance explained by all the assets (again, in this case industries). The paper suggests to set n to 1/5 of the total assets. But there are a variety of methods to find the significant stopping point for eigenvectors in PCA. You should try a number of settings for this parameter n."
      ]
    },
    {
      "cell_type": "markdown",
      "metadata": {
        "id": "uK0hNZ_ELlle"
      },
      "source": [
        " Basically you will see that  the first combination (the first eigenvector) of industries explains more than 50% of the total variance. This reading makes sense: the U.S. industries are mostly going to trade together because they’re driven by the same underlying factor, in this case, the vector of market driven betas which is usually captured by the first eigenvector. The second combination (eigenvector) of industries (possibly representing growth stocks vs value stocks) will add to our explanation of total variance (total risk), and the next one (possibly defensive stocks vs cyclical stocks), etc. until the explained variance is over 80%. This is our absorption ratio.\n",
        "Note: the meaning of an eigenvector cannot be determined exactly"
      ]
    },
    {
      "cell_type": "markdown",
      "metadata": {
        "id": "eyx1l_S7Llle"
      },
      "source": [
        "STEP 2: Having computed AR daily and put together an AR times series, we further follow M. Kritzman to make use of AR to define yet another measure: AR Delta. AR Delta is the standardized change of the absorption ratio over time. The standardized change is essentially a z-score to allow us to detect high outliers of change In particular:"
      ]
    },
    {
      "cell_type": "markdown",
      "metadata": {
        "id": "G4eEb7gMLlle"
      },
      "source": [
        "![AR_Ratio_ZValue.PNG](attachment:AR_Ratio_ZValue.PNG)"
      ]
    },
    {
      "cell_type": "markdown",
      "metadata": {
        "id": "WhKqpxeLLllf"
      },
      "source": [
        "We use  𝐴𝑅 Delta  to build simple portfolio trading strategy."
      ]
    },
    {
      "cell_type": "markdown",
      "metadata": {
        "id": "igh5RSUMLllf"
      },
      "source": [
        "### Keiser-Meyer-Olkin (KMO)"
      ]
    },
    {
      "cell_type": "markdown",
      "metadata": {
        "id": "Ux9QT5yhLllf"
      },
      "source": [
        "We have discussed in lecture that PCA can be used to filter \"noise\" away from data by the removal of some principal components, specifically those that have less importance because their eigenvalue is small compared to that of the principal components that we keep. This presupposes that the the eigenvalues that PCA outputs are NOT all going to be of similar magnitude. If the eigenvalue magnitudes are similar, that is an indication that the variables in the original data were largely uncorrelated with one another to begin with; meaning, each variable was contributing a valuable dimension, so it makes sense to keep all of them, not to get rid of some of them via PCA.  There is a rule of thumb that can be used to determine if PCA is redundant or not: if the average absolute value of the off diagonal elements of the correlation matrix of the orginal data is less than 0.3, then PCA is redundant for that data.  A more formal way making this determination is through the use of the Kaiser-Meyer-Olkin (KMO) measure.\n",
        "\n",
        "We use the Kaiser-Meyer-Olkin (KMO) measure of sampling adequacy (Kaiser,1970;\n",
        "Kaiser and Rice,1974) to test the length of the shortest sliding window that a PCA could be\n",
        "efficiently applied to. The KMO statistic compares the value of correlations between assets\n",
        "(here industry ETFs) to those of the partial correlations.\n",
        "If the investigated assets share more common variation,\n",
        "the KMO will be close to 1. On the other hand, a KMO near 0 indicates little common variation\n",
        "and the PCA will not extract much useful information.\n",
        "\n",
        "The KMO statistic can also be used to assess the potential for diversification. Since the KMO\n",
        "statistic measures the degree of common variation among the input assets,\n",
        "one can expect less diversification opportunities (and higher market risk)\n",
        "when the assets have more common variation, which means a high KMO test statistic.\n",
        "\n",
        "As mentioned above, KMO values range between 0 and 1. Value of KMO less than 0.6 is considered inadequate for PCA.\n",
        "\n",
        "See: 1. Kaiser, H. F. and Rice, J. (1974). Little jiffy. Educational and Psychological Measurement,\n",
        "34(1):111–117. and 2. https://factor-analyzer.readthedocs.io/en/latest/factor_analyzer.html"
      ]
    },
    {
      "cell_type": "code",
      "execution_count": 2,
      "metadata": {
        "colab": {
          "base_uri": "https://localhost:8080/"
        },
        "id": "ql34hgPZLllf",
        "outputId": "8900b8d8-b8c7-4210-f68b-7c04e948510a"
      },
      "outputs": [],
      "source": [
        "import pandas as pd\n",
        "import numpy as np\n",
        "import sklearn.decomposition\n",
        "\n",
        "import matplotlib.pyplot as plt\n",
        "%matplotlib inline\n",
        "\n",
        "import sklearn.model_selection\n",
        "import pandas as pd\n",
        "!pip install factor_analyzer\n",
        "from factor_analyzer.factor_analyzer import calculate_kmo"
      ]
    },
    {
      "cell_type": "markdown",
      "metadata": {
        "id": "DMadZcjkLllg"
      },
      "source": [
        "#### Dataset:  daily prices of ETFs of 20 different industries  ####\n",
        "For this exercise we will be working with 20 ETFs representing 20 different industries.\n",
        "The following cell computes returns based on ETF price data. We obtain the data from WRDS as follows:"
      ]
    },
    {
      "cell_type": "code",
      "execution_count": 3,
      "metadata": {
        "id": "xgvfxLhOLllg"
      },
      "outputs": [],
      "source": [
        "#1.Go to WRDS CRSP database and obtain the price and ticker data for the following industry ETFs:\n",
        "#IYW IYJ IBB IGV IXP IYT VNQ PBS PBJ KCE KIE KBE XSD ITB ITA IHI IHF IHE IEZ FDN\n",
        "#2. set the starting and ending dates as follows: 1/3/2007 and 12/31/2019\n",
        "#3. Unstack the prices and save the unstacked price data into a csv file called:\n",
        "# 20industries_ETF_prc_UNSTACKED.csv"
      ]
    },
    {
      "cell_type": "code",
      "execution_count": 4,
      "metadata": {
        "colab": {
          "base_uri": "https://localhost:8080/",
          "height": 255
        },
        "id": "bo4B2VSNLllg",
        "outputId": "a4b737e0-2e9a-4d3f-bf45-f2e595a5f5f6"
      },
      "outputs": [
        {
          "name": "stdout",
          "output_type": "stream",
          "text": [
            "Asset prices shape (3272, 20)\n"
          ]
        },
        {
          "data": {
            "text/html": [
              "<div>\n",
              "<style scoped>\n",
              "    .dataframe tbody tr th:only-of-type {\n",
              "        vertical-align: middle;\n",
              "    }\n",
              "\n",
              "    .dataframe tbody tr th {\n",
              "        vertical-align: top;\n",
              "    }\n",
              "\n",
              "    .dataframe thead th {\n",
              "        text-align: right;\n",
              "    }\n",
              "</style>\n",
              "<table border=\"1\" class=\"dataframe\">\n",
              "  <thead>\n",
              "    <tr style=\"text-align: right;\">\n",
              "      <th></th>\n",
              "      <th>IYW</th>\n",
              "      <th>IYJ</th>\n",
              "      <th>IBB</th>\n",
              "      <th>IGV</th>\n",
              "      <th>IXP</th>\n",
              "      <th>IYT</th>\n",
              "      <th>VNQ</th>\n",
              "      <th>PBS</th>\n",
              "      <th>PBJ</th>\n",
              "      <th>KCE</th>\n",
              "      <th>KIE</th>\n",
              "      <th>KBE</th>\n",
              "      <th>XSD</th>\n",
              "      <th>ITB</th>\n",
              "      <th>ITA</th>\n",
              "      <th>IHI</th>\n",
              "      <th>IHF</th>\n",
              "      <th>IHE</th>\n",
              "      <th>IEZ</th>\n",
              "      <th>FDN</th>\n",
              "    </tr>\n",
              "    <tr>\n",
              "      <th>datadate</th>\n",
              "      <th></th>\n",
              "      <th></th>\n",
              "      <th></th>\n",
              "      <th></th>\n",
              "      <th></th>\n",
              "      <th></th>\n",
              "      <th></th>\n",
              "      <th></th>\n",
              "      <th></th>\n",
              "      <th></th>\n",
              "      <th></th>\n",
              "      <th></th>\n",
              "      <th></th>\n",
              "      <th></th>\n",
              "      <th></th>\n",
              "      <th></th>\n",
              "      <th></th>\n",
              "      <th></th>\n",
              "      <th></th>\n",
              "      <th></th>\n",
              "    </tr>\n",
              "  </thead>\n",
              "  <tbody>\n",
              "    <tr>\n",
              "      <th>2007-01-03</th>\n",
              "      <td>54.67</td>\n",
              "      <td>65.36</td>\n",
              "      <td>77.64</td>\n",
              "      <td>44.62</td>\n",
              "      <td>63.70</td>\n",
              "      <td>83.4600</td>\n",
              "      <td>77.12</td>\n",
              "      <td>16.23</td>\n",
              "      <td>16.429</td>\n",
              "      <td>67.6344</td>\n",
              "      <td>57.08</td>\n",
              "      <td>58.63</td>\n",
              "      <td>49.06</td>\n",
              "      <td>41.18</td>\n",
              "      <td>53.48</td>\n",
              "      <td>50.78</td>\n",
              "      <td>53.78</td>\n",
              "      <td>53.3484</td>\n",
              "      <td>43.2000</td>\n",
              "      <td>22.2998</td>\n",
              "    </tr>\n",
              "    <tr>\n",
              "      <th>2007-01-04</th>\n",
              "      <td>55.57</td>\n",
              "      <td>65.39</td>\n",
              "      <td>78.84</td>\n",
              "      <td>45.40</td>\n",
              "      <td>64.16</td>\n",
              "      <td>83.8599</td>\n",
              "      <td>77.22</td>\n",
              "      <td>16.33</td>\n",
              "      <td>16.450</td>\n",
              "      <td>67.6500</td>\n",
              "      <td>57.12</td>\n",
              "      <td>58.61</td>\n",
              "      <td>50.11</td>\n",
              "      <td>40.79</td>\n",
              "      <td>53.42</td>\n",
              "      <td>50.94</td>\n",
              "      <td>53.75</td>\n",
              "      <td>53.9000</td>\n",
              "      <td>42.0644</td>\n",
              "      <td>23.2200</td>\n",
              "    </tr>\n",
              "    <tr>\n",
              "      <th>2007-01-05</th>\n",
              "      <td>55.12</td>\n",
              "      <td>64.94</td>\n",
              "      <td>78.85</td>\n",
              "      <td>44.99</td>\n",
              "      <td>63.16</td>\n",
              "      <td>82.6100</td>\n",
              "      <td>75.79</td>\n",
              "      <td>16.20</td>\n",
              "      <td>16.350</td>\n",
              "      <td>67.4900</td>\n",
              "      <td>56.66</td>\n",
              "      <td>58.02</td>\n",
              "      <td>49.25</td>\n",
              "      <td>40.38</td>\n",
              "      <td>53.17</td>\n",
              "      <td>50.75</td>\n",
              "      <td>53.35</td>\n",
              "      <td>53.6000</td>\n",
              "      <td>42.0600</td>\n",
              "      <td>22.9900</td>\n",
              "    </tr>\n",
              "    <tr>\n",
              "      <th>2007-01-08</th>\n",
              "      <td>55.32</td>\n",
              "      <td>65.15</td>\n",
              "      <td>78.96</td>\n",
              "      <td>45.20</td>\n",
              "      <td>63.75</td>\n",
              "      <td>82.8900</td>\n",
              "      <td>75.90</td>\n",
              "      <td>16.20</td>\n",
              "      <td>16.340</td>\n",
              "      <td>68.6000</td>\n",
              "      <td>56.69</td>\n",
              "      <td>58.17</td>\n",
              "      <td>49.32</td>\n",
              "      <td>39.54</td>\n",
              "      <td>53.76</td>\n",
              "      <td>51.25</td>\n",
              "      <td>53.72</td>\n",
              "      <td>53.6200</td>\n",
              "      <td>42.0899</td>\n",
              "      <td>22.9700</td>\n",
              "    </tr>\n",
              "    <tr>\n",
              "      <th>2007-01-09</th>\n",
              "      <td>55.65</td>\n",
              "      <td>65.19</td>\n",
              "      <td>78.91</td>\n",
              "      <td>45.20</td>\n",
              "      <td>63.72</td>\n",
              "      <td>83.1000</td>\n",
              "      <td>76.86</td>\n",
              "      <td>16.23</td>\n",
              "      <td>16.350</td>\n",
              "      <td>68.9100</td>\n",
              "      <td>56.48</td>\n",
              "      <td>58.05</td>\n",
              "      <td>49.56</td>\n",
              "      <td>39.61</td>\n",
              "      <td>53.71</td>\n",
              "      <td>51.58</td>\n",
              "      <td>53.08</td>\n",
              "      <td>53.8700</td>\n",
              "      <td>41.8300</td>\n",
              "      <td>22.9800</td>\n",
              "    </tr>\n",
              "  </tbody>\n",
              "</table>\n",
              "</div>"
            ],
            "text/plain": [
              "              IYW    IYJ    IBB    IGV    IXP      IYT    VNQ    PBS     PBJ  \\\n",
              "datadate                                                                       \n",
              "2007-01-03  54.67  65.36  77.64  44.62  63.70  83.4600  77.12  16.23  16.429   \n",
              "2007-01-04  55.57  65.39  78.84  45.40  64.16  83.8599  77.22  16.33  16.450   \n",
              "2007-01-05  55.12  64.94  78.85  44.99  63.16  82.6100  75.79  16.20  16.350   \n",
              "2007-01-08  55.32  65.15  78.96  45.20  63.75  82.8900  75.90  16.20  16.340   \n",
              "2007-01-09  55.65  65.19  78.91  45.20  63.72  83.1000  76.86  16.23  16.350   \n",
              "\n",
              "                KCE    KIE    KBE    XSD    ITB    ITA    IHI    IHF      IHE  \\\n",
              "datadate                                                                        \n",
              "2007-01-03  67.6344  57.08  58.63  49.06  41.18  53.48  50.78  53.78  53.3484   \n",
              "2007-01-04  67.6500  57.12  58.61  50.11  40.79  53.42  50.94  53.75  53.9000   \n",
              "2007-01-05  67.4900  56.66  58.02  49.25  40.38  53.17  50.75  53.35  53.6000   \n",
              "2007-01-08  68.6000  56.69  58.17  49.32  39.54  53.76  51.25  53.72  53.6200   \n",
              "2007-01-09  68.9100  56.48  58.05  49.56  39.61  53.71  51.58  53.08  53.8700   \n",
              "\n",
              "                IEZ      FDN  \n",
              "datadate                      \n",
              "2007-01-03  43.2000  22.2998  \n",
              "2007-01-04  42.0644  23.2200  \n",
              "2007-01-05  42.0600  22.9900  \n",
              "2007-01-08  42.0899  22.9700  \n",
              "2007-01-09  41.8300  22.9800  "
            ]
          },
          "execution_count": 4,
          "metadata": {},
          "output_type": "execute_result"
        }
      ],
      "source": [
        "import os\n",
        "# load dataset\n",
        "asset_prices = pd.read_csv('20industries_ETF_prc_UNSTACKED.csv',\n",
        "                     date_parser=lambda dt: pd.to_datetime(dt, format='%Y-%m-%d'),\n",
        "                     index_col = 0).dropna()\n",
        "n_stocks_show = 20\n",
        "print('Asset prices shape', asset_prices.shape)\n",
        "asset_prices.iloc[:, :n_stocks_show].head()"
      ]
    },
    {
      "cell_type": "markdown",
      "metadata": {
        "id": "0R-MgDaDLllg"
      },
      "source": [
        "### Calculate daily returns ¶"
      ]
    },
    {
      "cell_type": "code",
      "execution_count": 5,
      "metadata": {
        "colab": {
          "base_uri": "https://localhost:8080/",
          "height": 237
        },
        "id": "9-xLY0RKLllh",
        "outputId": "3e2285c9-6f39-4d4a-82ae-322ae8297b7c"
      },
      "outputs": [
        {
          "data": {
            "text/html": [
              "<div>\n",
              "<style scoped>\n",
              "    .dataframe tbody tr th:only-of-type {\n",
              "        vertical-align: middle;\n",
              "    }\n",
              "\n",
              "    .dataframe tbody tr th {\n",
              "        vertical-align: top;\n",
              "    }\n",
              "\n",
              "    .dataframe thead th {\n",
              "        text-align: right;\n",
              "    }\n",
              "</style>\n",
              "<table border=\"1\" class=\"dataframe\">\n",
              "  <thead>\n",
              "    <tr style=\"text-align: right;\">\n",
              "      <th></th>\n",
              "      <th>IYW</th>\n",
              "      <th>IYJ</th>\n",
              "      <th>IBB</th>\n",
              "      <th>IGV</th>\n",
              "      <th>IXP</th>\n",
              "      <th>IYT</th>\n",
              "      <th>VNQ</th>\n",
              "      <th>PBS</th>\n",
              "      <th>PBJ</th>\n",
              "      <th>KCE</th>\n",
              "      <th>KIE</th>\n",
              "      <th>KBE</th>\n",
              "      <th>XSD</th>\n",
              "      <th>ITB</th>\n",
              "      <th>ITA</th>\n",
              "      <th>IHI</th>\n",
              "      <th>IHF</th>\n",
              "      <th>IHE</th>\n",
              "      <th>IEZ</th>\n",
              "      <th>FDN</th>\n",
              "    </tr>\n",
              "    <tr>\n",
              "      <th>datadate</th>\n",
              "      <th></th>\n",
              "      <th></th>\n",
              "      <th></th>\n",
              "      <th></th>\n",
              "      <th></th>\n",
              "      <th></th>\n",
              "      <th></th>\n",
              "      <th></th>\n",
              "      <th></th>\n",
              "      <th></th>\n",
              "      <th></th>\n",
              "      <th></th>\n",
              "      <th></th>\n",
              "      <th></th>\n",
              "      <th></th>\n",
              "      <th></th>\n",
              "      <th></th>\n",
              "      <th></th>\n",
              "      <th></th>\n",
              "      <th></th>\n",
              "    </tr>\n",
              "  </thead>\n",
              "  <tbody>\n",
              "    <tr>\n",
              "      <th>2007-01-04</th>\n",
              "      <td>0.016462</td>\n",
              "      <td>0.000459</td>\n",
              "      <td>0.015456</td>\n",
              "      <td>0.017481</td>\n",
              "      <td>0.007221</td>\n",
              "      <td>0.004792</td>\n",
              "      <td>0.001297</td>\n",
              "      <td>0.006161</td>\n",
              "      <td>0.001278</td>\n",
              "      <td>0.000231</td>\n",
              "      <td>0.000701</td>\n",
              "      <td>-0.000341</td>\n",
              "      <td>0.021402</td>\n",
              "      <td>-0.009471</td>\n",
              "      <td>-0.001122</td>\n",
              "      <td>0.003151</td>\n",
              "      <td>-0.000558</td>\n",
              "      <td>0.010340</td>\n",
              "      <td>-0.026287</td>\n",
              "      <td>0.041265</td>\n",
              "    </tr>\n",
              "    <tr>\n",
              "      <th>2007-01-05</th>\n",
              "      <td>-0.008098</td>\n",
              "      <td>-0.006882</td>\n",
              "      <td>0.000127</td>\n",
              "      <td>-0.009031</td>\n",
              "      <td>-0.015586</td>\n",
              "      <td>-0.014905</td>\n",
              "      <td>-0.018519</td>\n",
              "      <td>-0.007961</td>\n",
              "      <td>-0.006079</td>\n",
              "      <td>-0.002365</td>\n",
              "      <td>-0.008053</td>\n",
              "      <td>-0.010067</td>\n",
              "      <td>-0.017162</td>\n",
              "      <td>-0.010051</td>\n",
              "      <td>-0.004680</td>\n",
              "      <td>-0.003730</td>\n",
              "      <td>-0.007442</td>\n",
              "      <td>-0.005566</td>\n",
              "      <td>-0.000105</td>\n",
              "      <td>-0.009905</td>\n",
              "    </tr>\n",
              "    <tr>\n",
              "      <th>2007-01-08</th>\n",
              "      <td>0.003628</td>\n",
              "      <td>0.003234</td>\n",
              "      <td>0.001395</td>\n",
              "      <td>0.004668</td>\n",
              "      <td>0.009341</td>\n",
              "      <td>0.003389</td>\n",
              "      <td>0.001451</td>\n",
              "      <td>0.000000</td>\n",
              "      <td>-0.000612</td>\n",
              "      <td>0.016447</td>\n",
              "      <td>0.000529</td>\n",
              "      <td>0.002585</td>\n",
              "      <td>0.001421</td>\n",
              "      <td>-0.020802</td>\n",
              "      <td>0.011096</td>\n",
              "      <td>0.009852</td>\n",
              "      <td>0.006935</td>\n",
              "      <td>0.000373</td>\n",
              "      <td>0.000711</td>\n",
              "      <td>-0.000870</td>\n",
              "    </tr>\n",
              "    <tr>\n",
              "      <th>2007-01-09</th>\n",
              "      <td>0.005965</td>\n",
              "      <td>0.000614</td>\n",
              "      <td>-0.000633</td>\n",
              "      <td>0.000000</td>\n",
              "      <td>-0.000471</td>\n",
              "      <td>0.002533</td>\n",
              "      <td>0.012648</td>\n",
              "      <td>0.001852</td>\n",
              "      <td>0.000612</td>\n",
              "      <td>0.004519</td>\n",
              "      <td>-0.003704</td>\n",
              "      <td>-0.002063</td>\n",
              "      <td>0.004866</td>\n",
              "      <td>0.001770</td>\n",
              "      <td>-0.000930</td>\n",
              "      <td>0.006439</td>\n",
              "      <td>-0.011914</td>\n",
              "      <td>0.004662</td>\n",
              "      <td>-0.006175</td>\n",
              "      <td>0.000435</td>\n",
              "    </tr>\n",
              "    <tr>\n",
              "      <th>2007-01-10</th>\n",
              "      <td>0.008985</td>\n",
              "      <td>0.001534</td>\n",
              "      <td>0.004309</td>\n",
              "      <td>0.003540</td>\n",
              "      <td>-0.011142</td>\n",
              "      <td>0.002286</td>\n",
              "      <td>0.012881</td>\n",
              "      <td>0.001232</td>\n",
              "      <td>0.007951</td>\n",
              "      <td>0.015673</td>\n",
              "      <td>0.001239</td>\n",
              "      <td>0.001378</td>\n",
              "      <td>0.017958</td>\n",
              "      <td>0.000505</td>\n",
              "      <td>0.007634</td>\n",
              "      <td>0.002714</td>\n",
              "      <td>0.003391</td>\n",
              "      <td>-0.000371</td>\n",
              "      <td>-0.015061</td>\n",
              "      <td>0.006092</td>\n",
              "    </tr>\n",
              "  </tbody>\n",
              "</table>\n",
              "</div>"
            ],
            "text/plain": [
              "                 IYW       IYJ       IBB       IGV       IXP       IYT  \\\n",
              "datadate                                                                 \n",
              "2007-01-04  0.016462  0.000459  0.015456  0.017481  0.007221  0.004792   \n",
              "2007-01-05 -0.008098 -0.006882  0.000127 -0.009031 -0.015586 -0.014905   \n",
              "2007-01-08  0.003628  0.003234  0.001395  0.004668  0.009341  0.003389   \n",
              "2007-01-09  0.005965  0.000614 -0.000633  0.000000 -0.000471  0.002533   \n",
              "2007-01-10  0.008985  0.001534  0.004309  0.003540 -0.011142  0.002286   \n",
              "\n",
              "                 VNQ       PBS       PBJ       KCE       KIE       KBE  \\\n",
              "datadate                                                                 \n",
              "2007-01-04  0.001297  0.006161  0.001278  0.000231  0.000701 -0.000341   \n",
              "2007-01-05 -0.018519 -0.007961 -0.006079 -0.002365 -0.008053 -0.010067   \n",
              "2007-01-08  0.001451  0.000000 -0.000612  0.016447  0.000529  0.002585   \n",
              "2007-01-09  0.012648  0.001852  0.000612  0.004519 -0.003704 -0.002063   \n",
              "2007-01-10  0.012881  0.001232  0.007951  0.015673  0.001239  0.001378   \n",
              "\n",
              "                 XSD       ITB       ITA       IHI       IHF       IHE  \\\n",
              "datadate                                                                 \n",
              "2007-01-04  0.021402 -0.009471 -0.001122  0.003151 -0.000558  0.010340   \n",
              "2007-01-05 -0.017162 -0.010051 -0.004680 -0.003730 -0.007442 -0.005566   \n",
              "2007-01-08  0.001421 -0.020802  0.011096  0.009852  0.006935  0.000373   \n",
              "2007-01-09  0.004866  0.001770 -0.000930  0.006439 -0.011914  0.004662   \n",
              "2007-01-10  0.017958  0.000505  0.007634  0.002714  0.003391 -0.000371   \n",
              "\n",
              "                 IEZ       FDN  \n",
              "datadate                        \n",
              "2007-01-04 -0.026287  0.041265  \n",
              "2007-01-05 -0.000105 -0.009905  \n",
              "2007-01-08  0.000711 -0.000870  \n",
              "2007-01-09 -0.006175  0.000435  \n",
              "2007-01-10 -0.015061  0.006092  "
            ]
          },
          "execution_count": 5,
          "metadata": {},
          "output_type": "execute_result"
        }
      ],
      "source": [
        "asset_returns = asset_prices.pct_change(periods=1)\n",
        "asset_returns = asset_returns.iloc[1:, :]\n",
        "asset_returns.iloc[:, :n_stocks_show].head()"
      ]
    },
    {
      "cell_type": "code",
      "execution_count": 6,
      "metadata": {
        "id": "wQ0AtC1FLllh"
      },
      "outputs": [],
      "source": [
        "def normalize_returns(r_df):\n",
        "    mean_r = r_df.mean(axis=0)\n",
        "    sd_r = r_df.std(axis=0)\n",
        "    normed_df = (r_df - mean_r) /sd_r\n",
        "    return normed_df"
      ]
    },
    {
      "cell_type": "code",
      "execution_count": 7,
      "metadata": {
        "colab": {
          "base_uri": "https://localhost:8080/",
          "height": 237
        },
        "id": "128h5SmaLllh",
        "outputId": "4fb95870-1e81-422e-fa55-89d342ea1f04"
      },
      "outputs": [
        {
          "data": {
            "text/html": [
              "<div>\n",
              "<style scoped>\n",
              "    .dataframe tbody tr th:only-of-type {\n",
              "        vertical-align: middle;\n",
              "    }\n",
              "\n",
              "    .dataframe tbody tr th {\n",
              "        vertical-align: top;\n",
              "    }\n",
              "\n",
              "    .dataframe thead th {\n",
              "        text-align: right;\n",
              "    }\n",
              "</style>\n",
              "<table border=\"1\" class=\"dataframe\">\n",
              "  <thead>\n",
              "    <tr style=\"text-align: right;\">\n",
              "      <th></th>\n",
              "      <th>IYW</th>\n",
              "      <th>IYJ</th>\n",
              "      <th>IBB</th>\n",
              "      <th>IGV</th>\n",
              "      <th>IXP</th>\n",
              "      <th>IYT</th>\n",
              "      <th>VNQ</th>\n",
              "      <th>PBS</th>\n",
              "      <th>PBJ</th>\n",
              "      <th>KCE</th>\n",
              "      <th>KIE</th>\n",
              "      <th>KBE</th>\n",
              "      <th>XSD</th>\n",
              "      <th>ITB</th>\n",
              "      <th>ITA</th>\n",
              "      <th>IHI</th>\n",
              "      <th>IHF</th>\n",
              "      <th>IHE</th>\n",
              "      <th>IEZ</th>\n",
              "      <th>FDN</th>\n",
              "    </tr>\n",
              "    <tr>\n",
              "      <th>datadate</th>\n",
              "      <th></th>\n",
              "      <th></th>\n",
              "      <th></th>\n",
              "      <th></th>\n",
              "      <th></th>\n",
              "      <th></th>\n",
              "      <th></th>\n",
              "      <th></th>\n",
              "      <th></th>\n",
              "      <th></th>\n",
              "      <th></th>\n",
              "      <th></th>\n",
              "      <th></th>\n",
              "      <th></th>\n",
              "      <th></th>\n",
              "      <th></th>\n",
              "      <th></th>\n",
              "      <th></th>\n",
              "      <th></th>\n",
              "      <th></th>\n",
              "    </tr>\n",
              "  </thead>\n",
              "  <tbody>\n",
              "    <tr>\n",
              "      <th>2007-01-04</th>\n",
              "      <td>1.188124</td>\n",
              "      <td>0.006221</td>\n",
              "      <td>0.793868</td>\n",
              "      <td>1.180974</td>\n",
              "      <td>0.584213</td>\n",
              "      <td>0.290918</td>\n",
              "      <td>0.051180</td>\n",
              "      <td>0.415470</td>\n",
              "      <td>0.101186</td>\n",
              "      <td>0.003972</td>\n",
              "      <td>0.025898</td>\n",
              "      <td>-0.023448</td>\n",
              "      <td>1.050519</td>\n",
              "      <td>-0.432476</td>\n",
              "      <td>-0.124127</td>\n",
              "      <td>0.212696</td>\n",
              "      <td>-0.077886</td>\n",
              "      <td>0.830709</td>\n",
              "      <td>-1.160044</td>\n",
              "      <td>2.666506</td>\n",
              "    </tr>\n",
              "    <tr>\n",
              "      <th>2007-01-05</th>\n",
              "      <td>-0.643716</td>\n",
              "      <td>-0.546687</td>\n",
              "      <td>-0.013245</td>\n",
              "      <td>-0.674605</td>\n",
              "      <td>-1.277347</td>\n",
              "      <td>-1.006712</td>\n",
              "      <td>-0.928184</td>\n",
              "      <td>-0.589853</td>\n",
              "      <td>-0.641238</td>\n",
              "      <td>-0.128270</td>\n",
              "      <td>-0.383558</td>\n",
              "      <td>-0.453157</td>\n",
              "      <td>-0.883524</td>\n",
              "      <td>-0.458249</td>\n",
              "      <td>-0.392560</td>\n",
              "      <td>-0.356087</td>\n",
              "      <td>-0.587440</td>\n",
              "      <td>-0.499629</td>\n",
              "      <td>-0.005862</td>\n",
              "      <td>-0.695129</td>\n",
              "    </tr>\n",
              "    <tr>\n",
              "      <th>2007-01-08</th>\n",
              "      <td>0.230898</td>\n",
              "      <td>0.215216</td>\n",
              "      <td>0.053529</td>\n",
              "      <td>0.284166</td>\n",
              "      <td>0.757249</td>\n",
              "      <td>0.198545</td>\n",
              "      <td>0.058826</td>\n",
              "      <td>-0.023145</td>\n",
              "      <td>-0.089520</td>\n",
              "      <td>0.830108</td>\n",
              "      <td>0.017885</td>\n",
              "      <td>0.105853</td>\n",
              "      <td>0.048455</td>\n",
              "      <td>-0.935263</td>\n",
              "      <td>0.797693</td>\n",
              "      <td>0.766654</td>\n",
              "      <td>0.476755</td>\n",
              "      <td>-0.002889</td>\n",
              "      <td>0.030086</td>\n",
              "      <td>-0.101553</td>\n",
              "    </tr>\n",
              "    <tr>\n",
              "      <th>2007-01-09</th>\n",
              "      <td>0.405192</td>\n",
              "      <td>0.017893</td>\n",
              "      <td>-0.053265</td>\n",
              "      <td>-0.042530</td>\n",
              "      <td>-0.043611</td>\n",
              "      <td>0.142153</td>\n",
              "      <td>0.612228</td>\n",
              "      <td>0.108683</td>\n",
              "      <td>0.033956</td>\n",
              "      <td>0.222439</td>\n",
              "      <td>-0.180146</td>\n",
              "      <td>-0.099524</td>\n",
              "      <td>0.221217</td>\n",
              "      <td>0.066283</td>\n",
              "      <td>-0.109652</td>\n",
              "      <td>0.484508</td>\n",
              "      <td>-0.918438</td>\n",
              "      <td>0.355871</td>\n",
              "      <td>-0.273454</td>\n",
              "      <td>-0.015801</td>\n",
              "    </tr>\n",
              "    <tr>\n",
              "      <th>2007-01-10</th>\n",
              "      <td>0.630398</td>\n",
              "      <td>0.087189</td>\n",
              "      <td>0.206939</td>\n",
              "      <td>0.205224</td>\n",
              "      <td>-0.914662</td>\n",
              "      <td>0.125875</td>\n",
              "      <td>0.623711</td>\n",
              "      <td>0.064578</td>\n",
              "      <td>0.774545</td>\n",
              "      <td>0.790663</td>\n",
              "      <td>0.051090</td>\n",
              "      <td>0.052515</td>\n",
              "      <td>0.877783</td>\n",
              "      <td>0.010136</td>\n",
              "      <td>0.536434</td>\n",
              "      <td>0.176604</td>\n",
              "      <td>0.214413</td>\n",
              "      <td>-0.065151</td>\n",
              "      <td>-0.665173</td>\n",
              "      <td>0.355830</td>\n",
              "    </tr>\n",
              "  </tbody>\n",
              "</table>\n",
              "</div>"
            ],
            "text/plain": [
              "                 IYW       IYJ       IBB       IGV       IXP       IYT  \\\n",
              "datadate                                                                 \n",
              "2007-01-04  1.188124  0.006221  0.793868  1.180974  0.584213  0.290918   \n",
              "2007-01-05 -0.643716 -0.546687 -0.013245 -0.674605 -1.277347 -1.006712   \n",
              "2007-01-08  0.230898  0.215216  0.053529  0.284166  0.757249  0.198545   \n",
              "2007-01-09  0.405192  0.017893 -0.053265 -0.042530 -0.043611  0.142153   \n",
              "2007-01-10  0.630398  0.087189  0.206939  0.205224 -0.914662  0.125875   \n",
              "\n",
              "                 VNQ       PBS       PBJ       KCE       KIE       KBE  \\\n",
              "datadate                                                                 \n",
              "2007-01-04  0.051180  0.415470  0.101186  0.003972  0.025898 -0.023448   \n",
              "2007-01-05 -0.928184 -0.589853 -0.641238 -0.128270 -0.383558 -0.453157   \n",
              "2007-01-08  0.058826 -0.023145 -0.089520  0.830108  0.017885  0.105853   \n",
              "2007-01-09  0.612228  0.108683  0.033956  0.222439 -0.180146 -0.099524   \n",
              "2007-01-10  0.623711  0.064578  0.774545  0.790663  0.051090  0.052515   \n",
              "\n",
              "                 XSD       ITB       ITA       IHI       IHF       IHE  \\\n",
              "datadate                                                                 \n",
              "2007-01-04  1.050519 -0.432476 -0.124127  0.212696 -0.077886  0.830709   \n",
              "2007-01-05 -0.883524 -0.458249 -0.392560 -0.356087 -0.587440 -0.499629   \n",
              "2007-01-08  0.048455 -0.935263  0.797693  0.766654  0.476755 -0.002889   \n",
              "2007-01-09  0.221217  0.066283 -0.109652  0.484508 -0.918438  0.355871   \n",
              "2007-01-10  0.877783  0.010136  0.536434  0.176604  0.214413 -0.065151   \n",
              "\n",
              "                 IEZ       FDN  \n",
              "datadate                        \n",
              "2007-01-04 -1.160044  2.666506  \n",
              "2007-01-05 -0.005862 -0.695129  \n",
              "2007-01-08  0.030086 -0.101553  \n",
              "2007-01-09 -0.273454 -0.015801  \n",
              "2007-01-10 -0.665173  0.355830  "
            ]
          },
          "execution_count": 7,
          "metadata": {},
          "output_type": "execute_result"
        }
      ],
      "source": [
        "normed_r = normalize_returns(asset_returns)\n",
        "normed_r.iloc[:, :n_stocks_show].head()"
      ]
    },
    {
      "cell_type": "code",
      "execution_count": 8,
      "metadata": {
        "id": "8iPLcPObLllh"
      },
      "outputs": [],
      "source": [
        "def absorption_ratio(explained_variance_arr, n_components):\n",
        "    \"\"\"\n",
        "    Calculate absorption ratio via PCA.\n",
        "    Arguments:\n",
        "    explained_variance_arr -- 1D np.array of explained variance by each pricincipal component, in descending order\n",
        "    n_components -- an integer, a number of principal components to compute absorption ratio\n",
        "    Formally, the ratio is defined by the variance absorbed by the first n eigenvectors\n",
        "    The numerator equals the cumulative variance explained by the first n eigenvectors (=n_components)\n",
        "    And the denominator equals the total variance\n",
        "    Return:\n",
        "    ar -- absorption ratio\n",
        "    \"\"\"\n",
        "    ar = np.sum(explained_variance_arr[:n_components]) / np.sum(explained_variance_arr)\n",
        "    return ar"
      ]
    },
    {
      "cell_type": "code",
      "execution_count": 9,
      "metadata": {
        "colab": {
          "base_uri": "https://localhost:8080/"
        },
        "id": "QMsXUiG0Lllh",
        "outputId": "05edd30c-61ad-4684-d3f9-39a3623335d0"
      },
      "outputs": [
        {
          "name": "stdout",
          "output_type": "stream",
          "text": [
            "Lookback window = 100\n",
            "Step size = 1\n",
            "Variance Threshold =  0.8\n",
            "Number of assets = 20\n",
            "Number of principal components = 4\n"
          ]
        }
      ],
      "source": [
        "stock_tickers = asset_returns.columns.values[:]\n",
        "assert 'SPX' not in stock_tickers, \"By accident included SPX index\"\n",
        "\n",
        "lookback_window = 100 * 1   # in (days)\n",
        "num_assets = len(stock_tickers)\n",
        "step_size = 1          # days : 5 - weekly, 21 - monthly, 63 - quarterly\n",
        "\n",
        "# require 0.8 variance to be explained.\n",
        "var_threshold = 0.8\n",
        "\n",
        "# fix 20% of principal components for absorption ratio calculation.\n",
        "absorb_comp = int((1 / 5) * num_assets)\n",
        "\n",
        "\n",
        "print('Lookback window = %d' % lookback_window)\n",
        "print('Step size = %d' % step_size)\n",
        "print('Variance Threshold = ', var_threshold)\n",
        "print('Number of assets = %d' % num_assets)\n",
        "print('Number of principal components = %d' % absorb_comp)"
      ]
    },
    {
      "cell_type": "code",
      "execution_count": 10,
      "metadata": {},
      "outputs": [
        {
          "name": "stdout",
          "output_type": "stream",
          "text": [
            "Index offset is 2000\n",
            "Number of Datapoints is 3271\n",
            "Length of pca_components, absorp_ratio and kmo is 1171\n"
          ]
        }
      ],
      "source": [
        "'''\n",
        "\n",
        "return frame\n",
        "  index     0 <------> 100   <--------------------------->     2100  <-------------------->  3272\n",
        "            lookback        20 timesteps * 100days(one step)         predict AR for each day\n",
        "            window\n",
        "            \n",
        "corresponding \n",
        "index in \n",
        "sigma/corr                0  <---------------------------->    2000  <-------------------->  3172\n",
        "\n",
        "\n",
        "\n",
        "where  3272 = total datapoints number\n",
        "       100  = lookback window\n",
        "       100  =  one time step in samples for time-series prediction\n",
        "       20   =  timestamps number in one sample of X    \n",
        "'''\n",
        "\n",
        "# indexes date on which to compute PCA\n",
        "# in data sequence for predicting\n",
        "time_step = 100\n",
        "timestamp_num = 20\n",
        "\n",
        "index_offset = time_step * timestamp_num\n",
        "num_datapoints = len(asset_returns)\n",
        "pca_ts_index = asset_returns.index[list(range(lookback_window + index_offset, num_datapoints, step_size))]\n",
        "\n",
        "# allocate arrays for storing absorption ratio\n",
        "pca_components = np.array([np.nan]* (num_datapoints - index_offset))\n",
        "absorp_ratio = np.array([np.nan]*(num_datapoints - index_offset))\n",
        "kmo = np.array([np.nan]*(num_datapoints - index_offset))\n",
        "\n",
        "assert 'SPX' not in asset_returns.iloc[:lookback_window, :].columns.values, \"By accident included SPX index\"\n",
        "\n",
        "print(\"Index offset is {}\".format(index_offset))\n",
        "print(\"Number of Datapoints is {}\".format(num_datapoints))\n",
        "print(\"Length of pca_components, absorp_ratio and kmo is {}\".format(num_datapoints - index_offset - lookback_window))"
      ]
    },
    {
      "cell_type": "markdown",
      "metadata": {},
      "source": [
        "# Prediction Model"
      ]
    },
    {
      "cell_type": "code",
      "execution_count": 11,
      "metadata": {},
      "outputs": [
        {
          "name": "stderr",
          "output_type": "stream",
          "text": [
            "c:\\Users\\chuiy\\miniconda3\\envs\\aps1052\\lib\\site-packages\\pyramid\\__init__.py:68: UserWarning: \n",
            "    The 'pyramid' package will be migrating to a new namespace beginning in \n",
            "    version 1.0.0: 'pmdarima'. This is due to a package name collision with the\n",
            "    Pyramid web framework. For more information, see Issue #34:\n",
            "    \n",
            "        https://github.com/tgsmith61591/pyramid/issues/34\n",
            "        \n",
            "    The package will subsequently be installable via the name 'pmdarima'; the\n",
            "    only functional change to the user will be the import name. All imports\n",
            "    from 'pyramid' will change to 'pmdarima'.\n",
            "    \n",
            "  \"\"\", UserWarning)\n"
          ]
        }
      ],
      "source": [
        "import six\n",
        "import sys\n",
        "sys.modules['sklearn.externals.six'] = six\n",
        "import joblib\n",
        "sys.modules['sklearn.externals.joblib'] = joblib\n",
        "import pandas as pd\n",
        "import numpy as np\n",
        "import matplotlib.pyplot as plt\n",
        "import random\n",
        "import scipy.stats as stats\n",
        "import pylab as pl\n",
        "from pyramid.arima import ARIMA, auto_arima\n",
        "from statsmodels.graphics.tsaplots import plot_acf, plot_pacf\n",
        "import warnings\n",
        "warnings.simplefilter(\"ignore\")\n",
        "\n",
        "import os\n",
        "from keras.models import Sequential, load_model\n",
        "from keras.layers import Dense, LSTM, Activation\n",
        "from keras import backend as K\n",
        "from keras.utils.generic_utils import get_custom_objects\n",
        "from keras.callbacks import ModelCheckpoint\n",
        "from keras.regularizers import l1_l2\n",
        "import statsmodels.stats"
      ]
    },
    {
      "cell_type": "code",
      "execution_count": 12,
      "metadata": {},
      "outputs": [],
      "source": [
        "def normalize_returns(r_df):\n",
        "    mean_r = r_df.mean(axis=0)\n",
        "    sd_r = r_df.std(axis=0)\n",
        "    normed_df = (r_df - mean_r) /sd_r\n",
        "    return normed_df\n",
        "\n",
        "def rolling_corr(item1,item2):\n",
        "    #import data\n",
        "    stock_price_df = pd.read_csv(\"./20industries_ETF_prc_UNSTACKED.csv\")\n",
        "    pd.to_datetime(stock_price_df['datadate'], format='%Y-%m-%d')\n",
        "    stock_price_df = stock_price_df.set_index(pd.DatetimeIndex(stock_price_df['datadate']))\n",
        "    \n",
        "    #calculate\n",
        "    df_pair = pd.concat([stock_price_df[item1], stock_price_df[item2]], axis=1)\n",
        "    df_pair.columns = [item1,item2]\n",
        "    df_pair = normalize_returns(df_pair)\n",
        "    df_pair = df_pair.ewm(halflife=100/12).mean()\n",
        "    df_corr = df_pair[item1].rolling(window=lookback_window).corr(df_pair[item2])\n",
        "    return df_corr\n",
        "\n",
        "def corr_to_matrix(final_corr):\n",
        "    correlation_matrix = np.zeros((num_assets, num_assets))\n",
        "    correlation_values = []\n",
        "    for i in range(len(final_corr)//5):\n",
        "        correlation_values.append(final_corr[i*5:i*5+5].mean())\n",
        "    correlation_values = np.array(correlation_values)\n",
        "    \n",
        "    ix = 0\n",
        "    for i in range(num_assets):\n",
        "        for j in range(num_assets-1, -1, -1):\n",
        "            if i == j:\n",
        "                correlation_matrix[i, j] = 1  # Set diagonal elements to 1\n",
        "            elif i < j:\n",
        "                correlation_matrix[i, j] = correlation_values[ix]\n",
        "                ix += 1\n",
        "            else:\n",
        "                correlation_matrix[i, j] = correlation_matrix[j, i]\n",
        "    return correlation_matrix"
      ]
    },
    {
      "cell_type": "code",
      "execution_count": 13,
      "metadata": {},
      "outputs": [],
      "source": [
        "def double_tanh(x):\n",
        "    return (2*K.tanh(x))\n",
        "\n",
        "\n",
        "class Double_Tanh(Activation):\n",
        "    def __init__(self, activation, **kwargs):\n",
        "        super(Double_Tanh, self).__init__(activation, **kwargs)\n",
        "        \n",
        "        self.__name__ = 'double_tanh'\n",
        "\n",
        "\n",
        "\n",
        "class Model():\n",
        "    def __init__(self, lstm_model=None):\n",
        "        self.lstm_model = lstm_model\n",
        "    \n",
        "    \n",
        "    def arima_predict(self, s):\n",
        "        '''corr: 20 * 950'''\n",
        "        model_110 = ARIMA(order=(1,1,0), method='mle', suppress_warnings=True)\n",
        "        model_011 = ARIMA(order=(0,1,1), method='mle', suppress_warnings=True)\n",
        "        model_111 = ARIMA(order=(1,1,1), method='mle', suppress_warnings=True)\n",
        "        model_211 = ARIMA(order=(2,1,1), method='mle', suppress_warnings=True)\n",
        "        model_210 = ARIMA(order=(2,1,0), method='mle', suppress_warnings=True)\n",
        "\n",
        "        train_X = []; train_Y = []\n",
        "        dev_X = []; dev_Y = []\n",
        "        test1_X = []; test1_Y = []\n",
        "        test2_X = []; test2_Y = []\n",
        "\n",
        "        flag = 0\n",
        "\n",
        "        prediction_20th = []\n",
        "        residuals = []\n",
        "        for i in range(950):\n",
        "            c = 1\n",
        "            try:\n",
        "                model1 = model_110.fit(s[i])\n",
        "                model = model1\n",
        "                \n",
        "                try:\n",
        "                    model2 = model_011.fit(s[i])\n",
        "                    \n",
        "                    if model.aic() <= model2.aic() :\n",
        "                        pass\n",
        "                    else :\n",
        "                        model = model2\n",
        "                        \n",
        "                    try :\n",
        "                        model3 = model_111.fit(s[i])\n",
        "                        if model.aic() <= model3.aic() :\n",
        "                            pass\n",
        "                        else :\n",
        "                            model = model3\n",
        "                    except :\n",
        "                        try:\n",
        "                            model4 = model_211.fit(s[i])\n",
        "                            \n",
        "                            if model.aic() <= model4.aic() :\n",
        "                                pass\n",
        "                            else:\n",
        "                                model = model4\n",
        "                        except:\n",
        "                            try:\n",
        "                                model5 = model_210.fit(s[i])\n",
        "                                \n",
        "                                if model.aic() <= model5.aic():\n",
        "                                    pass\n",
        "                                else :\n",
        "                                    model = model5\n",
        "                            except :\n",
        "                                pass\n",
        "                        \n",
        "                except:\n",
        "                    try:\n",
        "                        model3 = model_111.fit(s[i])\n",
        "\n",
        "                        if model.aic() <= model3.aic() :\n",
        "                            pass\n",
        "                        else :\n",
        "                            model = model3\n",
        "                    except :\n",
        "                        try:\n",
        "                            model4 = model_211.fit(s[i])\n",
        "                            \n",
        "                            if model.aic() <= model4.aic() :\n",
        "                                pass\n",
        "                            else:\n",
        "                                model = model4\n",
        "                        except:\n",
        "                            try:\n",
        "                                model5 = model_210.fit(s[i])\n",
        "                                \n",
        "                                if model.aic() <= model5.aic():\n",
        "                                    pass\n",
        "                                else :\n",
        "                                    model = model5\n",
        "                            except :\n",
        "                                pass\n",
        "                    \n",
        "            except:\n",
        "                try:\n",
        "                    model2 = model_011.fit(s[i])\n",
        "                    model = model2\n",
        "                \n",
        "                    try :\n",
        "                        model3 = model_111.fit(s[i])\n",
        "                        \n",
        "                        if model.aic() <= model3.aic():\n",
        "                            pass\n",
        "                        else:\n",
        "                            model = model3\n",
        "                    except :\n",
        "                        try:\n",
        "                            model4 = model_211.fit(s[i])\n",
        "                            \n",
        "                            if model.aic() <= model4.aic() :\n",
        "                                pass\n",
        "                            else:\n",
        "                                model = model4\n",
        "                        except:\n",
        "                            try:\n",
        "                                model5 = model_210.fit(s[i])\n",
        "                                \n",
        "                                if model.aic() <= model5.aic():\n",
        "                                    pass\n",
        "                                else :\n",
        "                                    model = model5\n",
        "                            except :\n",
        "                                pass\n",
        "                \n",
        "                except :\n",
        "                    try:\n",
        "                        model3 = model_111.fit(s[i])\n",
        "                        model = model3\n",
        "                    except :\n",
        "                        try:\n",
        "                            model4 = model_211.fit(s[i])\n",
        "                            \n",
        "                            if model.aic() <= model4.aic() :\n",
        "                                pass\n",
        "                            else:\n",
        "                                model = model4\n",
        "                        except:\n",
        "                            try:\n",
        "                                model5 = model_210.fit(s[i])\n",
        "                                \n",
        "                                if model.aic() <= model5.aic():\n",
        "                                    pass\n",
        "                                else :\n",
        "                                    model = model5\n",
        "                            except :\n",
        "                                flag = 1\n",
        "                                print(str(c) + \" FATAL ERROR\")\n",
        "                                break\n",
        "                \n",
        "\n",
        "\n",
        "                \n",
        "            predictions = list(model.predict_in_sample())\n",
        "            #pad the first time step of predictions with the average of the prediction values\n",
        "            #so as to match the length of the s[i] data\n",
        "            predictions = [np.mean(predictions)] + predictions # [21]   * 950 iterations\n",
        "            \n",
        "            prediction_20th.append(predictions[-1])\n",
        "            \n",
        "            residual = pd.Series(np.array(s[i]) - np.array(predictions))\n",
        "            residuals.append(np.array(residual))\n",
        "            \n",
        "        residuals = np.array(residuals)\n",
        "        prediction_20th = np.array(prediction_20th)\n",
        "\n",
        "        return residuals, prediction_20th\n",
        "    \n",
        "    \n",
        "    def lstm_predict(self, residual):\n",
        "        model = load_model(self.lstm_model)\n",
        "\n",
        "        residual = residual.reshape((950,20,1))\n",
        "        resid_predictions = model.predict(residual)\n",
        "\n",
        "        return resid_predictions\n",
        "\n",
        "    def compute_predict_corr_matrix(self, residual, prediction):\n",
        "        corr = residual+prediction\n",
        "        return corr_to_matrix(corr)\n",
        "\n",
        "    def predict_corr_from_s(self, s):\n",
        "        residual, prediction = self.arima_predict(s)\n",
        "        r = self.lstm_predict(residual)\n",
        "        mat = self.compute_predict_corr_matrix(r, prediction)\n",
        "        return mat\n",
        "        "
      ]
    },
    {
      "cell_type": "code",
      "execution_count": 14,
      "metadata": {},
      "outputs": [],
      "source": [
        "corr = []\n",
        "sigma = []\n",
        "for ix in range(lookback_window, num_datapoints):\n",
        "    ret_frame = normalize_returns(asset_returns.iloc[ix - 100:ix, :])\n",
        "    ret_frame_kmo = ret_frame.copy(deep=True)\n",
        "    ret_frame = ret_frame.ewm(halflife=10).mean()\n",
        "    corr_mat = ret_frame.corr()\n",
        "    curr_sigma = ret_frame.std(axis=0)\n",
        "    corr.append(corr_mat)\n",
        "    sigma.append(curr_sigma)\n",
        "\n",
        "corr = np.array(corr)   # (3171 * 20 * 20)\n",
        "sigma = np.array(sigma) # (3171 * 20)\n"
      ]
    },
    {
      "cell_type": "code",
      "execution_count": 56,
      "metadata": {},
      "outputs": [],
      "source": [
        "def format_corr(prev_corr):\n",
        "    result  = []\n",
        "    for i in range(20):\n",
        "        new = []\n",
        "\n",
        "        for row in range(num_assets):\n",
        "            for col in range(num_assets-1, row, -1):\n",
        "                for j in range(i*5, i*5+5):\n",
        "                    curr = prev_corr[j]\n",
        "                    new.append(curr[row][col])\n",
        "        result.append(new)\n",
        "    result = np.array(result)\n",
        "    result = np.transpose(result)\n",
        "    return result\n",
        "\n",
        "def predict_corr(prev_corr):\n",
        "    m = Model(lstm_model='./models/hybrid_LSTM/epoch124.h5')\n",
        "    return m.predict_corr_from_s(prev_corr)\n"
      ]
    },
    {
      "cell_type": "markdown",
      "metadata": {},
      "source": [
        "**What this loop does**\n",
        "- on each loop iteration:\n",
        "    - fits PCA to **ret_frame**\n",
        "    - uses fitted pca model to pass values to absorption_ratio().\n",
        "    - computes the number of principal components it takes to explain at least **var_threshold** of variance. The result of this calculation goes into **pca_components[ik]**. The result of the absorption ratio calculation goes into **absorp_ratio[ik]**.  The result of the KMO statistic calculation goes into **kmo[ik]**."
      ]
    },
    {
      "cell_type": "code",
      "execution_count": 17,
      "metadata": {},
      "outputs": [],
      "source": [
        "get_custom_objects().update({'double_tanh':Double_Tanh(double_tanh)})\n",
        "ik = 0\n",
        "for ix in range(index_offset, num_datapoints -  lookback_window):\n",
        "    if ik == 0 or ik % 10 == 0:\n",
        "        prev_ix = [ix - 20 * i for i in range(100, 0, -1)]\n",
        "        prev_corr = corr[prev_ix]\n",
        "        prev_corr_format = format_corr(prev_corr)\n",
        "        predicted_corr_mat = predict_corr(prev_corr_format)\n",
        "        predicted_cov_mat = statsmodels.stats.moment_helpers.corr2cov(predicted_corr_mat, sigma[ix])\n",
        "\n",
        "        eigenvalues, eigenvectors = np.linalg.eig(predicted_cov_mat)\n",
        "        sorted_indices = np.argsort(eigenvalues)[::-1]\n",
        "\n",
        "        eigenvalues = eigenvalues[sorted_indices]\n",
        "        eigenvectors = eigenvectors[:, sorted_indices]\n",
        "        explained_variance_ratio = eigenvalues / np.sum(eigenvalues)\n",
        "        explained_variance = np.cumsum(explained_variance_ratio)\n",
        "\n",
        "        ar = np.sum(explained_variance_ratio[:absorb_comp]) / np.sum(explained_variance_ratio)\n",
        "        absorp_ratio[ik] = ar\n",
        "\n",
        "        ret_frame = normalize_returns(asset_returns.iloc[ix:ix+100, :])\n",
        "        ret_frame_kmo = ret_frame.copy(deep=True)\n",
        "        kmo_per_variable, kmo_total=calculate_kmo(ret_frame_kmo)\n",
        "        kmo[ik] = kmo_total\n",
        "        pca_components[ik] = np.where(np.logical_not(explained_variance < var_threshold))[0][0] + 1\n",
        "\n",
        "    else:\n",
        "        absorp_ratio[ik] = absorp_ratio[ik-1]\n",
        "        pca_components[ik] = pca_components[ik-1]\n",
        "        kmo[ik] = kmo[ik-1]\n",
        "    np.save('./my_data/result/ar'+str(ik), absorp_ratio)\n",
        "    np.save('./my_data/result/pca'+str(ik), pca_components)\n",
        "    np.save('./my_data/result/kmo'+str(ik), kmo)\n",
        "    ik += 1"
      ]
    },
    {
      "cell_type": "code",
      "execution_count": 59,
      "metadata": {},
      "outputs": [],
      "source": [
        "absorp_ratio = np.load('./my_data/result/ar1170.npy')\n",
        "pca_components= np.load('./my_data/result/pca1170.npy')\n",
        "kmo = np.load('./my_data/result/kmo1170.npy')"
      ]
    },
    {
      "cell_type": "code",
      "execution_count": 60,
      "metadata": {},
      "outputs": [],
      "source": [
        "ts_pca_components = pd.Series(pca_components, index=pca_ts_index)\n",
        "ts_absorb_ratio = pd.Series(absorp_ratio, index=pca_ts_index)\n"
      ]
    },
    {
      "cell_type": "markdown",
      "metadata": {
        "id": "PuCS2MtcLlli"
      },
      "source": [
        "The value of the KMO statistic should be between .6 and 1. Change the number of years (with a year defined in terms of 252 trading days) in the lookback window to get the minimum KMO below to be close to 0.79. The KMO statistic and AR tell us similar information:"
      ]
    },
    {
      "cell_type": "code",
      "execution_count": 61,
      "metadata": {
        "colab": {
          "base_uri": "https://localhost:8080/"
        },
        "id": "F4LmRilZLlli",
        "outputId": "dfe39222-9d5f-447d-e9a2-7da04ea2b06f"
      },
      "outputs": [
        {
          "data": {
            "text/plain": [
              "0.786576635680853"
            ]
          },
          "execution_count": 61,
          "metadata": {},
          "output_type": "execute_result"
        }
      ],
      "source": [
        "np.amin(kmo)"
      ]
    },
    {
      "cell_type": "code",
      "execution_count": 18,
      "metadata": {
        "colab": {
          "base_uri": "https://localhost:8080/"
        },
        "id": "VWj-Yac5Llli",
        "outputId": "35511823-daa6-428e-eaca-e3968a98b99a"
      },
      "outputs": [
        {
          "name": "stdout",
          "output_type": "stream",
          "text": [
            "number of components needed to explain 0.8 variance:  11.0\n"
          ]
        }
      ],
      "source": [
        "# require 0.8 variance to be explained. How many components are needed?\n",
        "print('number of components needed to explain 0.8 variance: ', pca_components[len(pca_components)-1])"
      ]
    },
    {
      "cell_type": "code",
      "execution_count": 58,
      "metadata": {
        "colab": {
          "base_uri": "https://localhost:8080/"
        },
        "id": "G5x4eN-WLllj",
        "outputId": "403ebc69-e9a2-45c3-ea4e-93ea3266629e"
      },
      "outputs": [
        {
          "name": "stdout",
          "output_type": "stream",
          "text": [
            "variance explained by 20% of principal components:  0.563177862302382\n"
          ]
        }
      ],
      "source": [
        "# fix 20% of principal components for absorption ratio calculation. How much variance (in %) do they explain?\n",
        "print('variance explained by 20% of principal components: ', explained_variance[absorb_comp-1])"
      ]
    },
    {
      "cell_type": "code",
      "execution_count": 62,
      "metadata": {
        "colab": {
          "base_uri": "https://localhost:8080/",
          "height": 447
        },
        "id": "EAhdzbFbLllj",
        "outputId": "1639c04e-2f47-4d02-faad-14573576dc63"
      },
      "outputs": [
        {
          "data": {
            "text/plain": [
              "<AxesSubplot:>"
            ]
          },
          "execution_count": 62,
          "metadata": {},
          "output_type": "execute_result"
        },
        {
          "data": {
            "image/png": "[encoded data removed]",
            "text/plain": [
              "<Figure size 432x288 with 1 Axes>"
            ]
          },
          "metadata": {
            "needs_background": "light"
          },
          "output_type": "display_data"
        }
      ],
      "source": [
        "pd.DataFrame(pca_components).plot()"
      ]
    },
    {
      "cell_type": "code",
      "execution_count": 63,
      "metadata": {
        "colab": {
          "base_uri": "https://localhost:8080/",
          "height": 526
        },
        "id": "Tz3QS4tRLllj",
        "outputId": "034c4cd7-96ac-4278-c8e0-f0bc45357bf2"
      },
      "outputs": [
        {
          "data": {
            "image/png": "[encoded data removed]",
            "text/plain": [
              "<Figure size 864x432 with 1 Axes>"
            ]
          },
          "metadata": {
            "needs_background": "light"
          },
          "output_type": "display_data"
        }
      ],
      "source": [
        "ts_absorb_ratio.plot(figsize=(12,6), title='Absorption Ratio via PCA', linewidth=3)\n",
        "plt.savefig(\"Absorption_Ratio_20i.png\", dpi=900)"
      ]
    },
    {
      "cell_type": "markdown",
      "metadata": {
        "id": "LilWxT9VLllj"
      },
      "source": [
        "STEP 2:\n",
        "Having computed the Absorption Ratio as a daily times series, we define AR Delta. AR Delta is the standardized change of the absorption ratio over time. The standardized change is essentially a z-score to allow us to detect high outliers of change\n",
        "In particular:\n",
        "$$ AR\\delta = \\frac{AR_{15d} - AR_{1y}}{ AR\\sigma_{1y}}$$\n",
        "We use  $AR\\delta$ to build simple portfolio trading strategy"
      ]
    },
    {
      "cell_type": "code",
      "execution_count": 64,
      "metadata": {
        "colab": {
          "base_uri": "https://localhost:8080/",
          "height": 537
        },
        "id": "Xc0iCMY4Lllj",
        "outputId": "15c299d6-acd1-46ae-ef0e-7e5fe2635dbc"
      },
      "outputs": [
        {
          "data": {
            "image/png": "[encoded data removed]",
            "text/plain": [
              "<Figure size 864x432 with 2 Axes>"
            ]
          },
          "metadata": {
            "needs_background": "light"
          },
          "output_type": "display_data"
        }
      ],
      "source": [
        "# following Kritzman and computing AR_delta = (15d_AR -1yr_AR) / sigma_AR\n",
        "ts_ar = ts_absorb_ratio\n",
        "ar_mean_1yr = ts_ar.rolling(252).mean()\n",
        "ar_mean_15d = ts_ar.rolling(15).mean()\n",
        "ar_sd_1yr = ts_ar.rolling(252).std()\n",
        "ar_delta = (ar_mean_15d - ar_mean_1yr) / ar_sd_1yr  # standardized shift in absorption ratio\n",
        "\n",
        "df_plot = pd.DataFrame({'AR_delta': ar_delta.values, 'AR_1yr': ar_mean_1yr.values, 'AR_15d': ar_mean_15d.values},\n",
        "                       index=ts_ar.index)\n",
        "df_plot = df_plot.dropna()\n",
        "if df_plot.shape[0] > 0:\n",
        "    df_plot.plot(figsize=(12, 6), title='Absorption Ratio Delta', linewidth=3, secondary_y=['AR_1yr','AR_15d'])"
      ]
    },
    {
      "cell_type": "markdown",
      "metadata": {
        "id": "btkYU7IWLllj"
      },
      "source": [
        "#### Part 3 (AR Delta Trading Strategy)\n",
        "\n",
        "Here we implement get_weight() function\n",
        "\n",
        "The AR Delta trading strategy forms a portfolio of EQ (equities=stocks) and FI (fixed income=bonds), following these simple rules:\n",
        "\n",
        "* __$ -1\\sigma < AR\\delta < +1\\sigma $__\t 50% / 50% weights for EQ / FI\n",
        "* __$ AR\\delta > +1\\sigma $__\t             0% / 100% weights for EQ / FI\n",
        "* __$ AR\\delta < -1\\sigma $__\t             100% / 0% weights for EQ / FI\n",
        "\n",
        "Here we compute AR Delta strategy weights using data from the same data set. As expected, the average number of trades per year is very low."
      ]
    },
    {
      "cell_type": "code",
      "execution_count": 65,
      "metadata": {
        "id": "GcOFZ6H1Lllk"
      },
      "outputs": [],
      "source": [
        "def get_weight(ar_delta):\n",
        "    '''\n",
        "    Calculate EQuity / FIncome portfolio weights based on Absorption Ratio delta\n",
        "    Arguments:\n",
        "    ar_delta -- Absorption Ratio delta\n",
        "\n",
        "    Return:\n",
        "        wgts -- a vector of portfolio weights\n",
        "    '''\n",
        "    wgts = [0.0, 0.0] # replace with your own calculation here\n",
        "    if ar_delta < -1:\n",
        "        wgts = [1, 0]\n",
        "    elif ar_delta > 1:\n",
        "        wgts = [0, 1]\n",
        "    else:\n",
        "        wgts = [.5, .5]\n",
        "    return wgts"
      ]
    },
    {
      "cell_type": "code",
      "execution_count": 66,
      "metadata": {
        "colab": {
          "base_uri": "https://localhost:8080/"
        },
        "id": "JD9RiKP2Lllk",
        "outputId": "9434f6d3-63a9-44e2-8564-101b5d0f5bf9"
      },
      "outputs": [
        {
          "name": "stdout",
          "output_type": "stream",
          "text": [
            "Average number of trades per year 4.50\n"
          ]
        }
      ],
      "source": [
        "#Average trades per year\n",
        "ar_delta_data = ar_delta[251:]\n",
        "\n",
        "rebal_dates = np.zeros(len(ar_delta_data))\n",
        "wgts = pd.DataFrame(data=np.zeros((len(ar_delta_data.index), 2)), index=ar_delta_data.index, columns=('EQ', 'FI'))\n",
        "\n",
        "prtf_wgts = get_weight(ar_delta_data.values[0])\n",
        "wgts.iloc[0, :] = prtf_wgts\n",
        "for ix in range(1, len(ar_delta_data)):\n",
        "    prtf_wgts = get_weight(ar_delta_data.values[ix])\n",
        "    wgts.iloc[ix, :] = prtf_wgts\n",
        "    if wgts.iloc[ix-1, :][0] != prtf_wgts[0]:\n",
        "        prtf_wgts = wgts.iloc[ix, :]\n",
        "        rebal_dates[ix] = 1\n",
        "\n",
        "ts_rebal_dates = pd.Series(rebal_dates, index=ar_delta_data.index)\n",
        "ts_trades_per_year = ts_rebal_dates.groupby([ts_rebal_dates.index.year]).sum()\n",
        "print('Average number of trades per year %.2f' % ts_trades_per_year.mean())"
      ]
    },
    {
      "cell_type": "markdown",
      "metadata": {
        "id": "Kswnr0RTLllk"
      },
      "source": [
        "Now that weights have been determined, run the re-balancing strategy using time series of returns and compute\n",
        " - sharpe of the strategy\n",
        " - strategy annualized return\n",
        " - strategy annualized volatility\n",
        "\n",
        "Contrast this with 50 / 50 Equity / Fixed Income ETF strategy performance using the same performance metrics. Use VTI as Equity and AGG as Fixed Income assets."
      ]
    },
    {
      "cell_type": "code",
      "execution_count": 67,
      "metadata": {
        "id": "LN9PqIhoLllk"
      },
      "outputs": [],
      "source": [
        "#1. Go to WRDS CRSP database and obtain the Holding Period Return and ticker for the following industry ETFs:\n",
        "# VTI AGG\n",
        "#the holding period return includes dividends, coupon flows etc.\n",
        "#2. set the starting and ending dates as follows: 1/3/2007 and 12/31/2019\n",
        "#3. Unstack the holding period returns and save the unstacked returns data into a csv file called:\n",
        "# AGG_VTI_UNSTACKED_adjusted_returns.csv"
      ]
    },
    {
      "cell_type": "code",
      "execution_count": 68,
      "metadata": {
        "id": "1so_U3-fLllk"
      },
      "outputs": [],
      "source": [
        "#These are adjusted PERCENT returns of AGG and VTI from WRDS CRSP, including distibutions, coupons, dividends etc.\n",
        "etf_percent_returns = pd.read_csv('AGG_VTI_UNSTACKED_adjusted_returns.csv')\n",
        "etf_percent_returns[\"datadate\"]=pd.to_datetime(etf_percent_returns['datadate'])\n",
        "etf_percent_returns.set_index(['datadate'], inplace=True)\n",
        "etf_log_returns = np.log(etf_percent_returns + 1)\n",
        "#decide which return you are going to use by uncommenting a or b below (only a or b is correct, not both):\n",
        "#a:\n",
        "#etf_returns = etf_log_returns.copy()\n",
        "#b:\n",
        "etf_returns = etf_percent_returns.copy()"
      ]
    },
    {
      "cell_type": "code",
      "execution_count": 69,
      "metadata": {
        "colab": {
          "base_uri": "https://localhost:8080/",
          "height": 255
        },
        "id": "piOxn3iVLllk",
        "outputId": "e6ee6b2c-f94e-4801-ed18-9cbe5ecefd30"
      },
      "outputs": [
        {
          "name": "stdout",
          "output_type": "stream",
          "text": [
            "Asset holding period returns shape (3271, 2)\n"
          ]
        },
        {
          "data": {
            "text/html": [
              "<div>\n",
              "<style scoped>\n",
              "    .dataframe tbody tr th:only-of-type {\n",
              "        vertical-align: middle;\n",
              "    }\n",
              "\n",
              "    .dataframe tbody tr th {\n",
              "        vertical-align: top;\n",
              "    }\n",
              "\n",
              "    .dataframe thead th {\n",
              "        text-align: right;\n",
              "    }\n",
              "</style>\n",
              "<table border=\"1\" class=\"dataframe\">\n",
              "  <thead>\n",
              "    <tr style=\"text-align: right;\">\n",
              "      <th></th>\n",
              "      <th>AGG</th>\n",
              "      <th>VTI</th>\n",
              "    </tr>\n",
              "    <tr>\n",
              "      <th>datadate</th>\n",
              "      <th></th>\n",
              "      <th></th>\n",
              "    </tr>\n",
              "  </thead>\n",
              "  <tbody>\n",
              "    <tr>\n",
              "      <th>2007-01-03</th>\n",
              "      <td>0.002106</td>\n",
              "      <td>-0.001854</td>\n",
              "    </tr>\n",
              "    <tr>\n",
              "      <th>2007-01-04</th>\n",
              "      <td>0.002102</td>\n",
              "      <td>0.002001</td>\n",
              "    </tr>\n",
              "    <tr>\n",
              "      <th>2007-01-05</th>\n",
              "      <td>-0.000699</td>\n",
              "      <td>-0.007916</td>\n",
              "    </tr>\n",
              "    <tr>\n",
              "      <th>2007-01-08</th>\n",
              "      <td>0.000600</td>\n",
              "      <td>0.003666</td>\n",
              "    </tr>\n",
              "    <tr>\n",
              "      <th>2007-01-09</th>\n",
              "      <td>0.000000</td>\n",
              "      <td>0.000000</td>\n",
              "    </tr>\n",
              "  </tbody>\n",
              "</table>\n",
              "</div>"
            ],
            "text/plain": [
              "                 AGG       VTI\n",
              "datadate                      \n",
              "2007-01-03  0.002106 -0.001854\n",
              "2007-01-04  0.002102  0.002001\n",
              "2007-01-05 -0.000699 -0.007916\n",
              "2007-01-08  0.000600  0.003666\n",
              "2007-01-09  0.000000  0.000000"
            ]
          },
          "execution_count": 69,
          "metadata": {},
          "output_type": "execute_result"
        }
      ],
      "source": [
        "n_stocks_show = 2\n",
        "print('Asset holding period returns shape', etf_returns.shape)\n",
        "etf_returns.iloc[:, :n_stocks_show].head()"
      ]
    },
    {
      "cell_type": "markdown",
      "metadata": {
        "id": "7b2gVuSTLlln"
      },
      "source": [
        "#### Part 4 (Calculate performance of backtested strategy)\n",
        "\n",
        "Here we implement function backtest_strategy which given a DataFrame of strategy weights and a DataFrame asset returns annualized return, volatility and Sharpe ratio of a strategy. Our solution has higher anualized returns and shape ratio and similar anualized volatility, compared with non-prediction AR delta strategy "
      ]
    },
    {
      "cell_type": "code",
      "execution_count": 96,
      "metadata": {
        "id": "-cRnqrvFLllo"
      },
      "outputs": [],
      "source": [
        "def backtest_strategy(strat_wgts, asset_returns, label, periods_per_year = 252):\n",
        "    '''\n",
        "    Calculate portfolio returns and cumulative returns and portfolio strategy performance\n",
        "    Arguments:\n",
        "\n",
        "    strat_wgts -- pandas.DataFrame of weights of the assets\n",
        "    asset_returns -- pandas.DataFrame of asset returns\n",
        "    periods_per_year -- number of return observations per year\n",
        "\n",
        "    Return:\n",
        "        (ann_ret, ann_vol, sharpe) -- a tuple of (annualized return, annualized volatility, sharpe ratio)\n",
        "    before returning plot the cumulative return of the EWM+AGG portfolio\n",
        "    '''\n",
        "    df_all=pd.merge(strat_wgts,asset_returns, left_index=True, right_index=True, how='inner')\n",
        "    df_all['EQ_part'] = df_all.EQ*df_all.VTI\n",
        "    df_all['FI_part'] = df_all.FI*df_all.AGG\n",
        "    df_all['PORT_ret']=df_all.EQ_part+df_all.FI_part\n",
        "\n",
        "    average_arithmetic_return = df_all.PORT_ret.mean()\n",
        "    annualized_return = average_arithmetic_return*periods_per_year\n",
        "    annualized_vol = df_all.PORT_ret.std()*np.sqrt(periods_per_year)\n",
        "    annualized_sharpe = (df_all.PORT_ret.mean()/df_all.PORT_ret.std())*np.sqrt(periods_per_year) #classic definition\n",
        "    #before returning plot the cumulative return of the EWM+AGG portfolio\n",
        "    df_all['PORT_ret'] = df_all.PORT_ret + 1\n",
        "    df_all['Cum_PORT_ret'] = df_all.PORT_ret.cumprod()-1+1\n",
        "    df_all['Cum_PORT_ret'].plot(label=label)\n",
        "    return annualized_return, annualized_vol, annualized_sharpe, df_all['Cum_PORT_ret']\n"
      ]
    },
    {
      "cell_type": "code",
      "execution_count": 112,
      "metadata": {},
      "outputs": [
        {
          "name": "stdout",
          "output_type": "stream",
          "text": [
            "datadate\n",
            "2016-05-06    0.998470\n",
            "2016-05-09    0.999100\n",
            "2016-05-10    0.999550\n",
            "2016-05-11    0.999550\n",
            "2016-05-12    0.998650\n",
            "                ...   \n",
            "2019-12-24    1.457764\n",
            "2019-12-26    1.461936\n",
            "2019-12-27    1.462244\n",
            "2019-12-30    1.458279\n",
            "2019-12-31    1.462121\n",
            "Name: Cum_PORT_ret, Length: 920, dtype: float64\n"
          ]
        }
      ],
      "source": [
        "print(Cum_PORT_ret_ar)"
      ]
    },
    {
      "cell_type": "code",
      "execution_count": 125,
      "metadata": {
        "colab": {
          "base_uri": "https://localhost:8080/",
          "height": 468
        },
        "id": "3pX4cfpTLllo",
        "outputId": "30bbe354-ac2e-4a00-c1dd-5d548370dba4"
      },
      "outputs": [
        {
          "name": "stdout",
          "output_type": "stream",
          "text": [
            "Absorption Ratio strategy: 0.10705357173913044 0.07727830421127814 1.3852991836679929\n",
            "Equally weighted: 0.0896055847826087 0.0613439064207015 1.4607088138157736\n"
          ]
        },
        {
          "data": {
            "text/plain": [
              "<matplotlib.legend.Legend at 0x1b0cf9fdc50>"
            ]
          },
          "execution_count": 125,
          "metadata": {},
          "output_type": "execute_result"
        },
        {
          "data": {
            "image/png": "[encoded data removed]",
            "text/plain": [
              "<Figure size 432x288 with 1 Axes>"
            ]
          },
          "metadata": {
            "needs_background": "light"
          },
          "output_type": "display_data"
        }
      ],
      "source": [
        "ann_ret, ann_vol, sharpe, Cum_PORT_ret_ar = backtest_strategy(wgts, etf_returns, 'AR_pred_cov')\n",
        "print('Absorption Ratio strategy:', ann_ret, ann_vol, sharpe)\n",
        "\n",
        "\n",
        "eq_wgts = wgts.copy()\n",
        "eq_wgts.iloc[:, ] = 0.5\n",
        "ann_ret_eq_wgt, ann_vol_eq_wgt, sharpe_eq_wgt, Cum_PORT_ret_eq_wgt = backtest_strategy(eq_wgts, etf_returns, 'EQ')\n",
        "print('Equally weighted:', ann_ret_eq_wgt, ann_vol_eq_wgt, sharpe_eq_wgt)\n",
        "\n",
        "\n",
        "Cum_PORT_ret = pd.read_csv('Cum_PORT_ret.csv')  # generated from baseline.ipynb\n",
        "Cum_PORT_ret = pd.Series(np.array(Cum_PORT_ret)[:, 1], index=Cum_PORT_ret_ar.index)\n",
        "Cum_PORT_ret.plot(label='AR')\n",
        "plt.legend()\n"
      ]
    }
  ],
  "metadata": {
    "anaconda-cloud": {},
    "celltoolbar": "Edit Metadata",
    "colab": {
      "provenance": []
    },
    "coursera": {
      "course_slug": "machine-learning-in-finance"
    },
    "kernelspec": {
      "display_name": "Python 3",
      "language": "python",
      "name": "python3"
    },
    "language_info": {
      "codemirror_mode": {
        "name": "ipython",
        "version": 3
      },
      "file_extension": ".py",
      "mimetype": "text/x-python",
      "name": "python",
      "nbconvert_exporter": "python",
      "pygments_lexer": "ipython3",
      "version": "3.6.7"
    }
  },
  "nbformat": 4,
  "nbformat_minor": 0
}
