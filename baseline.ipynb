{
  "cells": [
    {
      "cell_type": "code",
      "execution_count": 1,
      "metadata": {
        "id": "M3JFcVBtLllZ"
      },
      "outputs": [],
      "source": [
        "#this notebook is based on Igor Halperin's notebook: Trading Strategy based on PCA\n",
        "#Please install: conda install -c desilinguist factor_analyzer==0.3.2"
      ]
    },
    {
      "cell_type": "markdown",
      "metadata": {
        "id": "m3C6tqmxLllb"
      },
      "source": [
        "# Trading Strategy based on PCA\n",
        "\n",
        "**For this project you will:**\n",
        "- Read: https://www.researchgate.net/publication/228140014_Principal_Components_as_a_Measure_of_Systemic_Risk\n",
        "- Understand how to use PCA to calculate a measure of market systemic risk (the absorption rato) as per this paper.\n",
        "- Understand the use of the absorption ratio in a portfolio trading strategy (code provided in this notebook)\n",
        "\n",
        "-Read: https://arxiv.org/abs/1808.01560\n",
        "-Watch the video in: https://drive.google.com/drive/folders/1rAjuAQF9B6xEi39pKMnjdea-oTx0PGqL?usp=sharing\n",
        "- Understand how to use an ARIMA+LSTM model to predict stock correlations as per this paper.\n",
        "- Construct the ARIMA + LSTM model with the code provided in the appendix of this paper.\n",
        "- Replace the covariance matrix in this notebook, cov_mat (see code below), with predicted_cov_mat. At present, cov_mat = ret_frame.cov().\n",
        "-To construct predicted_cov_mat, calculate the covariance matrix as shown in PortfolioPresentationPart1.pptx slide 17 where the correlations are indicated with the Greek letter rho (see slide 13 for reference). Obtain the correlations by predicting them with the ARIMA + LSTM model. As per slide 17, you also need the variances indicated with the Greek letter sigma (see slide 9 for reference). A variance is just the covariance of an asset with itself.  You can predict these variances using the ARIMA + LSTM model also or you can just estimate them from historical data (as long as the lookbacks you use are consistent with the lookbacks used in the ARIMA + LSTM model). To predict the covariance of an asset with itself using an ARIMA + LSTM model, there is a shortcut: predict the squared returns series.\n",
        "- Once you have replaced cov_mat with predicted_cov_mat, run this notebook and comment on the results: are they better than when using the original covariance matrix?\n",
        "- You can use fewer stocks to limit the calculation time.\n",
        "\n",
        "**Installation Instructions:**\n",
        "- conda install -c desilinguist factor_analyzer"
      ]
    },
    {
      "cell_type": "markdown",
      "metadata": {
        "id": "lHytWhaXLlld"
      },
      "source": [
        "The absorption ratio was introduced by Kritzman and others in the 2010 paper, Principal Components as a Measure of Systemic Risk. The authors described the ratio as an implied measure of systemic risk that captures the extent to which markets are unified or tightly coupled.\n",
        "\n",
        "The basic idea is to use building blocks of sub-assets to see how tightly a system of assets is trading. In this notebook we’ll use U.S. industries as the building blocks to examine the U.S. stock market. More specifically, we’ll examine linear combinations of U.S. industries  that explain the variance of the U.S. stock market. Principal Component Analysis solves this objective iteratively. PCA finds the linear combination of industries that explain the most amount of the market’s variance. Then it finds the next linear combination of industries that explain the most amount of left over variance (that is not explained by the first combination of industries). This process will be repeated until all of the variance has been explained. The absorption ratio gets its name from the idea of calculating how much of the market’s variance is “absorbed” by the first 20% of combinations of industries.\n",
        "\n",
        "According to the paper, there are two steps to calculating a meaningful absorption ratio (AR). The first is to calculate the AR ratio and the second involves finding the standardized change of the AR ratio over time. The standardized change is essentially a z-score to allow us to detect high outliers of change.\n",
        "\n",
        "STEP 1: Formally, the ratio is defined by the variance absorbed by the first n eigenvectors:"
      ]
    },
    {
      "cell_type": "markdown",
      "metadata": {
        "id": "7wK5FtucLlld"
      },
      "source": [
        "![AR_Ratio.PNG](attachment:AR_Ratio.PNG)"
      ]
    },
    {
      "cell_type": "markdown",
      "metadata": {
        "id": "LhyvZaxNLlld"
      },
      "source": [
        "The numerator equals the cumulative portion explained by the first n eigenvectors (i.e. the first n linear combinations of industries). And the denominator equals the total variance explained by all the assets (again, in this case industries). The paper suggests to set n to 1/5 of the total assets. But there are a variety of methods to find the significant stopping point for eigenvectors in PCA. You should try a number of settings for this parameter n."
      ]
    },
    {
      "cell_type": "markdown",
      "metadata": {
        "id": "uK0hNZ_ELlle"
      },
      "source": [
        " Basically you will see that  the first combination (the first eigenvector) of industries explains more than 50% of the total variance. This reading makes sense: the U.S. industries are mostly going to trade together because they’re driven by the same underlying factor, in this case, the vector of market driven betas which is usually captured by the first eigenvector. The second combination (eigenvector) of industries (possibly representing growth stocks vs value stocks) will add to our explanation of total variance (total risk), and the next one (possibly defensive stocks vs cyclical stocks), etc. until the explained variance is over 80%. This is our absorption ratio.\n",
        "Note: the meaning of an eigenvector cannot be determined exactly"
      ]
    },
    {
      "cell_type": "markdown",
      "metadata": {
        "id": "eyx1l_S7Llle"
      },
      "source": [
        "STEP 2: Having computed AR daily and put together an AR times series, we further follow M. Kritzman to make use of AR to define yet another measure: AR Delta. AR Delta is the standardized change of the absorption ratio over time. The standardized change is essentially a z-score to allow us to detect high outliers of change In particular:"
      ]
    },
    {
      "cell_type": "markdown",
      "metadata": {
        "id": "G4eEb7gMLlle"
      },
      "source": [
        "![AR_Ratio_ZValue.PNG](attachment:AR_Ratio_ZValue.PNG)"
      ]
    },
    {
      "cell_type": "markdown",
      "metadata": {
        "id": "WhKqpxeLLllf"
      },
      "source": [
        "We use  𝐴𝑅 Delta  to build simple portfolio trading strategy."
      ]
    },
    {
      "cell_type": "markdown",
      "metadata": {
        "id": "igh5RSUMLllf"
      },
      "source": [
        "### Keiser-Meyer-Olkin (KMO)"
      ]
    },
    {
      "cell_type": "markdown",
      "metadata": {
        "id": "Ux9QT5yhLllf"
      },
      "source": [
        "We have discussed in lecture that PCA can be used to filter \"noise\" away from data by the removal of some principal components, specifically those that have less importance because their eigenvalue is small compared to that of the principal components that we keep. This presupposes that the the eigenvalues that PCA outputs are NOT all going to be of similar magnitude. If the eigenvalue magnitudes are similar, that is an indication that the variables in the original data were largely uncorrelated with one another to begin with; meaning, each variable was contributing a valuable dimension, so it makes sense to keep all of them, not to get rid of some of them via PCA.  There is a rule of thumb that can be used to determine if PCA is redundant or not: if the average absolute value of the off diagonal elements of the correlation matrix of the orginal data is less than 0.3, then PCA is redundant for that data.  A more formal way making this determination is through the use of the Kaiser-Meyer-Olkin (KMO) measure.\n",
        "\n",
        "We use the Kaiser-Meyer-Olkin (KMO) measure of sampling adequacy (Kaiser,1970;\n",
        "Kaiser and Rice,1974) to test the length of the shortest sliding window that a PCA could be\n",
        "efficiently applied to. The KMO statistic compares the value of correlations between assets\n",
        "(here industry ETFs) to those of the partial correlations.\n",
        "If the investigated assets share more common variation,\n",
        "the KMO will be close to 1. On the other hand, a KMO near 0 indicates little common variation\n",
        "and the PCA will not extract much useful information.\n",
        "\n",
        "The KMO statistic can also be used to assess the potential for diversification. Since the KMO\n",
        "statistic measures the degree of common variation among the input assets,\n",
        "one can expect less diversification opportunities (and higher market risk)\n",
        "when the assets have more common variation, which means a high KMO test statistic.\n",
        "\n",
        "As mentioned above, KMO values range between 0 and 1. Value of KMO less than 0.6 is considered inadequate for PCA.\n",
        "\n",
        "See: 1. Kaiser, H. F. and Rice, J. (1974). Little jiffy. Educational and Psychological Measurement,\n",
        "34(1):111–117. and 2. https://factor-analyzer.readthedocs.io/en/latest/factor_analyzer.html"
      ]
    },
    {
      "cell_type": "code",
      "execution_count": 2,
      "metadata": {
        "colab": {
          "base_uri": "https://localhost:8080/"
        },
        "id": "ql34hgPZLllf",
        "outputId": "b0a31198-4fb9-41a6-cac3-9345e383642f"
      },
      "outputs": [],
      "source": [
        "import pandas as pd\n",
        "import numpy as np\n",
        "import sklearn.decomposition\n",
        "\n",
        "import matplotlib.pyplot as plt\n",
        "%matplotlib inline\n",
        "\n",
        "import sklearn.model_selection\n",
        "import pandas as pd\n",
        "!pip install factor_analyzer\n",
        "from factor_analyzer.factor_analyzer import calculate_kmo"
      ]
    },
    {
      "cell_type": "markdown",
      "metadata": {
        "id": "DMadZcjkLllg"
      },
      "source": [
        "#### Dataset:  daily prices of ETFs of 20 different industries  ####\n",
        "For this exercise we will be working with 20 ETFs representing 20 different industries.\n",
        "The following cell computes returns based on ETF price data. We obtain the data from WRDS as follows:"
      ]
    },
    {
      "cell_type": "code",
      "execution_count": 3,
      "metadata": {
        "id": "xgvfxLhOLllg"
      },
      "outputs": [],
      "source": [
        "#1.Go to WRDS CRSP database and obtain the price and ticker data for the following industry ETFs:\n",
        "#IYW IYJ IBB IGV IXP IYT VNQ PBS PBJ KCE KIE KBE XSD ITB ITA IHI IHF IHE IEZ FDN\n",
        "#2. set the starting and ending dates as follows: 1/3/2007 and 12/31/2019\n",
        "#3. Unstack the prices and save the unstacked price data into a csv file called:\n",
        "# 20industries_ETF_prc_UNSTACKED.csv"
      ]
    },
    {
      "cell_type": "code",
      "execution_count": 4,
      "metadata": {
        "colab": {
          "base_uri": "https://localhost:8080/",
          "height": 255
        },
        "id": "bo4B2VSNLllg",
        "outputId": "cdcf0ef0-f861-4697-e9d0-abafed7d95dc"
      },
      "outputs": [
        {
          "name": "stdout",
          "output_type": "stream",
          "text": [
            "Asset prices shape (3272, 20)\n"
          ]
        },
        {
          "data": {
            "text/html": [
              "<div>\n",
              "<style scoped>\n",
              "    .dataframe tbody tr th:only-of-type {\n",
              "        vertical-align: middle;\n",
              "    }\n",
              "\n",
              "    .dataframe tbody tr th {\n",
              "        vertical-align: top;\n",
              "    }\n",
              "\n",
              "    .dataframe thead th {\n",
              "        text-align: right;\n",
              "    }\n",
              "</style>\n",
              "<table border=\"1\" class=\"dataframe\">\n",
              "  <thead>\n",
              "    <tr style=\"text-align: right;\">\n",
              "      <th></th>\n",
              "      <th>IYW</th>\n",
              "      <th>IYJ</th>\n",
              "      <th>IBB</th>\n",
              "      <th>IGV</th>\n",
              "      <th>IXP</th>\n",
              "      <th>IYT</th>\n",
              "      <th>VNQ</th>\n",
              "      <th>PBS</th>\n",
              "      <th>PBJ</th>\n",
              "      <th>KCE</th>\n",
              "      <th>KIE</th>\n",
              "      <th>KBE</th>\n",
              "      <th>XSD</th>\n",
              "      <th>ITB</th>\n",
              "      <th>ITA</th>\n",
              "      <th>IHI</th>\n",
              "      <th>IHF</th>\n",
              "      <th>IHE</th>\n",
              "      <th>IEZ</th>\n",
              "      <th>FDN</th>\n",
              "    </tr>\n",
              "    <tr>\n",
              "      <th>datadate</th>\n",
              "      <th></th>\n",
              "      <th></th>\n",
              "      <th></th>\n",
              "      <th></th>\n",
              "      <th></th>\n",
              "      <th></th>\n",
              "      <th></th>\n",
              "      <th></th>\n",
              "      <th></th>\n",
              "      <th></th>\n",
              "      <th></th>\n",
              "      <th></th>\n",
              "      <th></th>\n",
              "      <th></th>\n",
              "      <th></th>\n",
              "      <th></th>\n",
              "      <th></th>\n",
              "      <th></th>\n",
              "      <th></th>\n",
              "      <th></th>\n",
              "    </tr>\n",
              "  </thead>\n",
              "  <tbody>\n",
              "    <tr>\n",
              "      <th>2007-01-03</th>\n",
              "      <td>54.67</td>\n",
              "      <td>65.36</td>\n",
              "      <td>77.64</td>\n",
              "      <td>44.62</td>\n",
              "      <td>63.70</td>\n",
              "      <td>83.4600</td>\n",
              "      <td>77.12</td>\n",
              "      <td>16.23</td>\n",
              "      <td>16.429</td>\n",
              "      <td>67.6344</td>\n",
              "      <td>57.08</td>\n",
              "      <td>58.63</td>\n",
              "      <td>49.06</td>\n",
              "      <td>41.18</td>\n",
              "      <td>53.48</td>\n",
              "      <td>50.78</td>\n",
              "      <td>53.78</td>\n",
              "      <td>53.3484</td>\n",
              "      <td>43.2000</td>\n",
              "      <td>22.2998</td>\n",
              "    </tr>\n",
              "    <tr>\n",
              "      <th>2007-01-04</th>\n",
              "      <td>55.57</td>\n",
              "      <td>65.39</td>\n",
              "      <td>78.84</td>\n",
              "      <td>45.40</td>\n",
              "      <td>64.16</td>\n",
              "      <td>83.8599</td>\n",
              "      <td>77.22</td>\n",
              "      <td>16.33</td>\n",
              "      <td>16.450</td>\n",
              "      <td>67.6500</td>\n",
              "      <td>57.12</td>\n",
              "      <td>58.61</td>\n",
              "      <td>50.11</td>\n",
              "      <td>40.79</td>\n",
              "      <td>53.42</td>\n",
              "      <td>50.94</td>\n",
              "      <td>53.75</td>\n",
              "      <td>53.9000</td>\n",
              "      <td>42.0644</td>\n",
              "      <td>23.2200</td>\n",
              "    </tr>\n",
              "    <tr>\n",
              "      <th>2007-01-05</th>\n",
              "      <td>55.12</td>\n",
              "      <td>64.94</td>\n",
              "      <td>78.85</td>\n",
              "      <td>44.99</td>\n",
              "      <td>63.16</td>\n",
              "      <td>82.6100</td>\n",
              "      <td>75.79</td>\n",
              "      <td>16.20</td>\n",
              "      <td>16.350</td>\n",
              "      <td>67.4900</td>\n",
              "      <td>56.66</td>\n",
              "      <td>58.02</td>\n",
              "      <td>49.25</td>\n",
              "      <td>40.38</td>\n",
              "      <td>53.17</td>\n",
              "      <td>50.75</td>\n",
              "      <td>53.35</td>\n",
              "      <td>53.6000</td>\n",
              "      <td>42.0600</td>\n",
              "      <td>22.9900</td>\n",
              "    </tr>\n",
              "    <tr>\n",
              "      <th>2007-01-08</th>\n",
              "      <td>55.32</td>\n",
              "      <td>65.15</td>\n",
              "      <td>78.96</td>\n",
              "      <td>45.20</td>\n",
              "      <td>63.75</td>\n",
              "      <td>82.8900</td>\n",
              "      <td>75.90</td>\n",
              "      <td>16.20</td>\n",
              "      <td>16.340</td>\n",
              "      <td>68.6000</td>\n",
              "      <td>56.69</td>\n",
              "      <td>58.17</td>\n",
              "      <td>49.32</td>\n",
              "      <td>39.54</td>\n",
              "      <td>53.76</td>\n",
              "      <td>51.25</td>\n",
              "      <td>53.72</td>\n",
              "      <td>53.6200</td>\n",
              "      <td>42.0899</td>\n",
              "      <td>22.9700</td>\n",
              "    </tr>\n",
              "    <tr>\n",
              "      <th>2007-01-09</th>\n",
              "      <td>55.65</td>\n",
              "      <td>65.19</td>\n",
              "      <td>78.91</td>\n",
              "      <td>45.20</td>\n",
              "      <td>63.72</td>\n",
              "      <td>83.1000</td>\n",
              "      <td>76.86</td>\n",
              "      <td>16.23</td>\n",
              "      <td>16.350</td>\n",
              "      <td>68.9100</td>\n",
              "      <td>56.48</td>\n",
              "      <td>58.05</td>\n",
              "      <td>49.56</td>\n",
              "      <td>39.61</td>\n",
              "      <td>53.71</td>\n",
              "      <td>51.58</td>\n",
              "      <td>53.08</td>\n",
              "      <td>53.8700</td>\n",
              "      <td>41.8300</td>\n",
              "      <td>22.9800</td>\n",
              "    </tr>\n",
              "  </tbody>\n",
              "</table>\n",
              "</div>"
            ],
            "text/plain": [
              "              IYW    IYJ    IBB    IGV    IXP      IYT    VNQ    PBS     PBJ  \\\n",
              "datadate                                                                       \n",
              "2007-01-03  54.67  65.36  77.64  44.62  63.70  83.4600  77.12  16.23  16.429   \n",
              "2007-01-04  55.57  65.39  78.84  45.40  64.16  83.8599  77.22  16.33  16.450   \n",
              "2007-01-05  55.12  64.94  78.85  44.99  63.16  82.6100  75.79  16.20  16.350   \n",
              "2007-01-08  55.32  65.15  78.96  45.20  63.75  82.8900  75.90  16.20  16.340   \n",
              "2007-01-09  55.65  65.19  78.91  45.20  63.72  83.1000  76.86  16.23  16.350   \n",
              "\n",
              "                KCE    KIE    KBE    XSD    ITB    ITA    IHI    IHF      IHE  \\\n",
              "datadate                                                                        \n",
              "2007-01-03  67.6344  57.08  58.63  49.06  41.18  53.48  50.78  53.78  53.3484   \n",
              "2007-01-04  67.6500  57.12  58.61  50.11  40.79  53.42  50.94  53.75  53.9000   \n",
              "2007-01-05  67.4900  56.66  58.02  49.25  40.38  53.17  50.75  53.35  53.6000   \n",
              "2007-01-08  68.6000  56.69  58.17  49.32  39.54  53.76  51.25  53.72  53.6200   \n",
              "2007-01-09  68.9100  56.48  58.05  49.56  39.61  53.71  51.58  53.08  53.8700   \n",
              "\n",
              "                IEZ      FDN  \n",
              "datadate                      \n",
              "2007-01-03  43.2000  22.2998  \n",
              "2007-01-04  42.0644  23.2200  \n",
              "2007-01-05  42.0600  22.9900  \n",
              "2007-01-08  42.0899  22.9700  \n",
              "2007-01-09  41.8300  22.9800  "
            ]
          },
          "execution_count": 4,
          "metadata": {},
          "output_type": "execute_result"
        }
      ],
      "source": [
        "import os\n",
        "# load dataset\n",
        "asset_prices = pd.read_csv('20industries_ETF_prc_UNSTACKED.csv',\n",
        "                     date_parser=lambda dt: pd.to_datetime(dt, format='%Y-%m-%d'),\n",
        "                     index_col = 0).dropna()\n",
        "n_stocks_show = 20\n",
        "print('Asset prices shape', asset_prices.shape)\n",
        "asset_prices.iloc[:, :n_stocks_show].head()"
      ]
    },
    {
      "cell_type": "markdown",
      "metadata": {
        "id": "0R-MgDaDLllg"
      },
      "source": [
        "### Calculate daily returns ¶"
      ]
    },
    {
      "cell_type": "code",
      "execution_count": 5,
      "metadata": {
        "colab": {
          "base_uri": "https://localhost:8080/",
          "height": 237
        },
        "id": "9-xLY0RKLllh",
        "outputId": "460dc481-7fa6-4926-f1f1-e01af34bcdd9"
      },
      "outputs": [
        {
          "data": {
            "text/html": [
              "<div>\n",
              "<style scoped>\n",
              "    .dataframe tbody tr th:only-of-type {\n",
              "        vertical-align: middle;\n",
              "    }\n",
              "\n",
              "    .dataframe tbody tr th {\n",
              "        vertical-align: top;\n",
              "    }\n",
              "\n",
              "    .dataframe thead th {\n",
              "        text-align: right;\n",
              "    }\n",
              "</style>\n",
              "<table border=\"1\" class=\"dataframe\">\n",
              "  <thead>\n",
              "    <tr style=\"text-align: right;\">\n",
              "      <th></th>\n",
              "      <th>IYW</th>\n",
              "      <th>IYJ</th>\n",
              "      <th>IBB</th>\n",
              "      <th>IGV</th>\n",
              "      <th>IXP</th>\n",
              "      <th>IYT</th>\n",
              "      <th>VNQ</th>\n",
              "      <th>PBS</th>\n",
              "      <th>PBJ</th>\n",
              "      <th>KCE</th>\n",
              "      <th>KIE</th>\n",
              "      <th>KBE</th>\n",
              "      <th>XSD</th>\n",
              "      <th>ITB</th>\n",
              "      <th>ITA</th>\n",
              "      <th>IHI</th>\n",
              "      <th>IHF</th>\n",
              "      <th>IHE</th>\n",
              "      <th>IEZ</th>\n",
              "      <th>FDN</th>\n",
              "    </tr>\n",
              "    <tr>\n",
              "      <th>datadate</th>\n",
              "      <th></th>\n",
              "      <th></th>\n",
              "      <th></th>\n",
              "      <th></th>\n",
              "      <th></th>\n",
              "      <th></th>\n",
              "      <th></th>\n",
              "      <th></th>\n",
              "      <th></th>\n",
              "      <th></th>\n",
              "      <th></th>\n",
              "      <th></th>\n",
              "      <th></th>\n",
              "      <th></th>\n",
              "      <th></th>\n",
              "      <th></th>\n",
              "      <th></th>\n",
              "      <th></th>\n",
              "      <th></th>\n",
              "      <th></th>\n",
              "    </tr>\n",
              "  </thead>\n",
              "  <tbody>\n",
              "    <tr>\n",
              "      <th>2007-01-04</th>\n",
              "      <td>0.016462</td>\n",
              "      <td>0.000459</td>\n",
              "      <td>0.015456</td>\n",
              "      <td>0.017481</td>\n",
              "      <td>0.007221</td>\n",
              "      <td>0.004792</td>\n",
              "      <td>0.001297</td>\n",
              "      <td>0.006161</td>\n",
              "      <td>0.001278</td>\n",
              "      <td>0.000231</td>\n",
              "      <td>0.000701</td>\n",
              "      <td>-0.000341</td>\n",
              "      <td>0.021402</td>\n",
              "      <td>-0.009471</td>\n",
              "      <td>-0.001122</td>\n",
              "      <td>0.003151</td>\n",
              "      <td>-0.000558</td>\n",
              "      <td>0.010340</td>\n",
              "      <td>-0.026287</td>\n",
              "      <td>0.041265</td>\n",
              "    </tr>\n",
              "    <tr>\n",
              "      <th>2007-01-05</th>\n",
              "      <td>-0.008098</td>\n",
              "      <td>-0.006882</td>\n",
              "      <td>0.000127</td>\n",
              "      <td>-0.009031</td>\n",
              "      <td>-0.015586</td>\n",
              "      <td>-0.014905</td>\n",
              "      <td>-0.018519</td>\n",
              "      <td>-0.007961</td>\n",
              "      <td>-0.006079</td>\n",
              "      <td>-0.002365</td>\n",
              "      <td>-0.008053</td>\n",
              "      <td>-0.010067</td>\n",
              "      <td>-0.017162</td>\n",
              "      <td>-0.010051</td>\n",
              "      <td>-0.004680</td>\n",
              "      <td>-0.003730</td>\n",
              "      <td>-0.007442</td>\n",
              "      <td>-0.005566</td>\n",
              "      <td>-0.000105</td>\n",
              "      <td>-0.009905</td>\n",
              "    </tr>\n",
              "    <tr>\n",
              "      <th>2007-01-08</th>\n",
              "      <td>0.003628</td>\n",
              "      <td>0.003234</td>\n",
              "      <td>0.001395</td>\n",
              "      <td>0.004668</td>\n",
              "      <td>0.009341</td>\n",
              "      <td>0.003389</td>\n",
              "      <td>0.001451</td>\n",
              "      <td>0.000000</td>\n",
              "      <td>-0.000612</td>\n",
              "      <td>0.016447</td>\n",
              "      <td>0.000529</td>\n",
              "      <td>0.002585</td>\n",
              "      <td>0.001421</td>\n",
              "      <td>-0.020802</td>\n",
              "      <td>0.011096</td>\n",
              "      <td>0.009852</td>\n",
              "      <td>0.006935</td>\n",
              "      <td>0.000373</td>\n",
              "      <td>0.000711</td>\n",
              "      <td>-0.000870</td>\n",
              "    </tr>\n",
              "    <tr>\n",
              "      <th>2007-01-09</th>\n",
              "      <td>0.005965</td>\n",
              "      <td>0.000614</td>\n",
              "      <td>-0.000633</td>\n",
              "      <td>0.000000</td>\n",
              "      <td>-0.000471</td>\n",
              "      <td>0.002533</td>\n",
              "      <td>0.012648</td>\n",
              "      <td>0.001852</td>\n",
              "      <td>0.000612</td>\n",
              "      <td>0.004519</td>\n",
              "      <td>-0.003704</td>\n",
              "      <td>-0.002063</td>\n",
              "      <td>0.004866</td>\n",
              "      <td>0.001770</td>\n",
              "      <td>-0.000930</td>\n",
              "      <td>0.006439</td>\n",
              "      <td>-0.011914</td>\n",
              "      <td>0.004662</td>\n",
              "      <td>-0.006175</td>\n",
              "      <td>0.000435</td>\n",
              "    </tr>\n",
              "    <tr>\n",
              "      <th>2007-01-10</th>\n",
              "      <td>0.008985</td>\n",
              "      <td>0.001534</td>\n",
              "      <td>0.004309</td>\n",
              "      <td>0.003540</td>\n",
              "      <td>-0.011142</td>\n",
              "      <td>0.002286</td>\n",
              "      <td>0.012881</td>\n",
              "      <td>0.001232</td>\n",
              "      <td>0.007951</td>\n",
              "      <td>0.015673</td>\n",
              "      <td>0.001239</td>\n",
              "      <td>0.001378</td>\n",
              "      <td>0.017958</td>\n",
              "      <td>0.000505</td>\n",
              "      <td>0.007634</td>\n",
              "      <td>0.002714</td>\n",
              "      <td>0.003391</td>\n",
              "      <td>-0.000371</td>\n",
              "      <td>-0.015061</td>\n",
              "      <td>0.006092</td>\n",
              "    </tr>\n",
              "  </tbody>\n",
              "</table>\n",
              "</div>"
            ],
            "text/plain": [
              "                 IYW       IYJ       IBB       IGV       IXP       IYT  \\\n",
              "datadate                                                                 \n",
              "2007-01-04  0.016462  0.000459  0.015456  0.017481  0.007221  0.004792   \n",
              "2007-01-05 -0.008098 -0.006882  0.000127 -0.009031 -0.015586 -0.014905   \n",
              "2007-01-08  0.003628  0.003234  0.001395  0.004668  0.009341  0.003389   \n",
              "2007-01-09  0.005965  0.000614 -0.000633  0.000000 -0.000471  0.002533   \n",
              "2007-01-10  0.008985  0.001534  0.004309  0.003540 -0.011142  0.002286   \n",
              "\n",
              "                 VNQ       PBS       PBJ       KCE       KIE       KBE  \\\n",
              "datadate                                                                 \n",
              "2007-01-04  0.001297  0.006161  0.001278  0.000231  0.000701 -0.000341   \n",
              "2007-01-05 -0.018519 -0.007961 -0.006079 -0.002365 -0.008053 -0.010067   \n",
              "2007-01-08  0.001451  0.000000 -0.000612  0.016447  0.000529  0.002585   \n",
              "2007-01-09  0.012648  0.001852  0.000612  0.004519 -0.003704 -0.002063   \n",
              "2007-01-10  0.012881  0.001232  0.007951  0.015673  0.001239  0.001378   \n",
              "\n",
              "                 XSD       ITB       ITA       IHI       IHF       IHE  \\\n",
              "datadate                                                                 \n",
              "2007-01-04  0.021402 -0.009471 -0.001122  0.003151 -0.000558  0.010340   \n",
              "2007-01-05 -0.017162 -0.010051 -0.004680 -0.003730 -0.007442 -0.005566   \n",
              "2007-01-08  0.001421 -0.020802  0.011096  0.009852  0.006935  0.000373   \n",
              "2007-01-09  0.004866  0.001770 -0.000930  0.006439 -0.011914  0.004662   \n",
              "2007-01-10  0.017958  0.000505  0.007634  0.002714  0.003391 -0.000371   \n",
              "\n",
              "                 IEZ       FDN  \n",
              "datadate                        \n",
              "2007-01-04 -0.026287  0.041265  \n",
              "2007-01-05 -0.000105 -0.009905  \n",
              "2007-01-08  0.000711 -0.000870  \n",
              "2007-01-09 -0.006175  0.000435  \n",
              "2007-01-10 -0.015061  0.006092  "
            ]
          },
          "execution_count": 5,
          "metadata": {},
          "output_type": "execute_result"
        }
      ],
      "source": [
        "asset_returns = asset_prices.pct_change(periods=1)\n",
        "asset_returns = asset_returns.iloc[1:, :]\n",
        "asset_returns.iloc[:, :n_stocks_show].head()"
      ]
    },
    {
      "cell_type": "code",
      "execution_count": 6,
      "metadata": {
        "id": "wQ0AtC1FLllh"
      },
      "outputs": [],
      "source": [
        "def normalize_returns(r_df):\n",
        "    mean_r = r_df.mean(axis=0)\n",
        "    sd_r = r_df.std(axis=0)\n",
        "    normed_df = (r_df - mean_r) /sd_r\n",
        "    return normed_df"
      ]
    },
    {
      "cell_type": "code",
      "execution_count": 7,
      "metadata": {
        "colab": {
          "base_uri": "https://localhost:8080/",
          "height": 237
        },
        "id": "128h5SmaLllh",
        "outputId": "cef6cea9-92d2-4276-95a0-ec202aad352e"
      },
      "outputs": [
        {
          "data": {
            "text/html": [
              "<div>\n",
              "<style scoped>\n",
              "    .dataframe tbody tr th:only-of-type {\n",
              "        vertical-align: middle;\n",
              "    }\n",
              "\n",
              "    .dataframe tbody tr th {\n",
              "        vertical-align: top;\n",
              "    }\n",
              "\n",
              "    .dataframe thead th {\n",
              "        text-align: right;\n",
              "    }\n",
              "</style>\n",
              "<table border=\"1\" class=\"dataframe\">\n",
              "  <thead>\n",
              "    <tr style=\"text-align: right;\">\n",
              "      <th></th>\n",
              "      <th>IYW</th>\n",
              "      <th>IYJ</th>\n",
              "      <th>IBB</th>\n",
              "      <th>IGV</th>\n",
              "      <th>IXP</th>\n",
              "      <th>IYT</th>\n",
              "      <th>VNQ</th>\n",
              "      <th>PBS</th>\n",
              "      <th>PBJ</th>\n",
              "      <th>KCE</th>\n",
              "      <th>KIE</th>\n",
              "      <th>KBE</th>\n",
              "      <th>XSD</th>\n",
              "      <th>ITB</th>\n",
              "      <th>ITA</th>\n",
              "      <th>IHI</th>\n",
              "      <th>IHF</th>\n",
              "      <th>IHE</th>\n",
              "      <th>IEZ</th>\n",
              "      <th>FDN</th>\n",
              "    </tr>\n",
              "    <tr>\n",
              "      <th>datadate</th>\n",
              "      <th></th>\n",
              "      <th></th>\n",
              "      <th></th>\n",
              "      <th></th>\n",
              "      <th></th>\n",
              "      <th></th>\n",
              "      <th></th>\n",
              "      <th></th>\n",
              "      <th></th>\n",
              "      <th></th>\n",
              "      <th></th>\n",
              "      <th></th>\n",
              "      <th></th>\n",
              "      <th></th>\n",
              "      <th></th>\n",
              "      <th></th>\n",
              "      <th></th>\n",
              "      <th></th>\n",
              "      <th></th>\n",
              "      <th></th>\n",
              "    </tr>\n",
              "  </thead>\n",
              "  <tbody>\n",
              "    <tr>\n",
              "      <th>2007-01-04</th>\n",
              "      <td>1.188124</td>\n",
              "      <td>0.006221</td>\n",
              "      <td>0.793868</td>\n",
              "      <td>1.180974</td>\n",
              "      <td>0.584213</td>\n",
              "      <td>0.290918</td>\n",
              "      <td>0.051180</td>\n",
              "      <td>0.415470</td>\n",
              "      <td>0.101186</td>\n",
              "      <td>0.003972</td>\n",
              "      <td>0.025898</td>\n",
              "      <td>-0.023448</td>\n",
              "      <td>1.050519</td>\n",
              "      <td>-0.432476</td>\n",
              "      <td>-0.124127</td>\n",
              "      <td>0.212696</td>\n",
              "      <td>-0.077886</td>\n",
              "      <td>0.830709</td>\n",
              "      <td>-1.160044</td>\n",
              "      <td>2.666506</td>\n",
              "    </tr>\n",
              "    <tr>\n",
              "      <th>2007-01-05</th>\n",
              "      <td>-0.643716</td>\n",
              "      <td>-0.546687</td>\n",
              "      <td>-0.013245</td>\n",
              "      <td>-0.674605</td>\n",
              "      <td>-1.277347</td>\n",
              "      <td>-1.006712</td>\n",
              "      <td>-0.928184</td>\n",
              "      <td>-0.589853</td>\n",
              "      <td>-0.641238</td>\n",
              "      <td>-0.128270</td>\n",
              "      <td>-0.383558</td>\n",
              "      <td>-0.453157</td>\n",
              "      <td>-0.883524</td>\n",
              "      <td>-0.458249</td>\n",
              "      <td>-0.392560</td>\n",
              "      <td>-0.356087</td>\n",
              "      <td>-0.587440</td>\n",
              "      <td>-0.499629</td>\n",
              "      <td>-0.005862</td>\n",
              "      <td>-0.695129</td>\n",
              "    </tr>\n",
              "    <tr>\n",
              "      <th>2007-01-08</th>\n",
              "      <td>0.230898</td>\n",
              "      <td>0.215216</td>\n",
              "      <td>0.053529</td>\n",
              "      <td>0.284166</td>\n",
              "      <td>0.757249</td>\n",
              "      <td>0.198545</td>\n",
              "      <td>0.058826</td>\n",
              "      <td>-0.023145</td>\n",
              "      <td>-0.089520</td>\n",
              "      <td>0.830108</td>\n",
              "      <td>0.017885</td>\n",
              "      <td>0.105853</td>\n",
              "      <td>0.048455</td>\n",
              "      <td>-0.935263</td>\n",
              "      <td>0.797693</td>\n",
              "      <td>0.766654</td>\n",
              "      <td>0.476755</td>\n",
              "      <td>-0.002889</td>\n",
              "      <td>0.030086</td>\n",
              "      <td>-0.101553</td>\n",
              "    </tr>\n",
              "    <tr>\n",
              "      <th>2007-01-09</th>\n",
              "      <td>0.405192</td>\n",
              "      <td>0.017893</td>\n",
              "      <td>-0.053265</td>\n",
              "      <td>-0.042530</td>\n",
              "      <td>-0.043611</td>\n",
              "      <td>0.142153</td>\n",
              "      <td>0.612228</td>\n",
              "      <td>0.108683</td>\n",
              "      <td>0.033956</td>\n",
              "      <td>0.222439</td>\n",
              "      <td>-0.180146</td>\n",
              "      <td>-0.099524</td>\n",
              "      <td>0.221217</td>\n",
              "      <td>0.066283</td>\n",
              "      <td>-0.109652</td>\n",
              "      <td>0.484508</td>\n",
              "      <td>-0.918438</td>\n",
              "      <td>0.355871</td>\n",
              "      <td>-0.273454</td>\n",
              "      <td>-0.015801</td>\n",
              "    </tr>\n",
              "    <tr>\n",
              "      <th>2007-01-10</th>\n",
              "      <td>0.630398</td>\n",
              "      <td>0.087189</td>\n",
              "      <td>0.206939</td>\n",
              "      <td>0.205224</td>\n",
              "      <td>-0.914662</td>\n",
              "      <td>0.125875</td>\n",
              "      <td>0.623711</td>\n",
              "      <td>0.064578</td>\n",
              "      <td>0.774545</td>\n",
              "      <td>0.790663</td>\n",
              "      <td>0.051090</td>\n",
              "      <td>0.052515</td>\n",
              "      <td>0.877783</td>\n",
              "      <td>0.010136</td>\n",
              "      <td>0.536434</td>\n",
              "      <td>0.176604</td>\n",
              "      <td>0.214413</td>\n",
              "      <td>-0.065151</td>\n",
              "      <td>-0.665173</td>\n",
              "      <td>0.355830</td>\n",
              "    </tr>\n",
              "  </tbody>\n",
              "</table>\n",
              "</div>"
            ],
            "text/plain": [
              "                 IYW       IYJ       IBB       IGV       IXP       IYT  \\\n",
              "datadate                                                                 \n",
              "2007-01-04  1.188124  0.006221  0.793868  1.180974  0.584213  0.290918   \n",
              "2007-01-05 -0.643716 -0.546687 -0.013245 -0.674605 -1.277347 -1.006712   \n",
              "2007-01-08  0.230898  0.215216  0.053529  0.284166  0.757249  0.198545   \n",
              "2007-01-09  0.405192  0.017893 -0.053265 -0.042530 -0.043611  0.142153   \n",
              "2007-01-10  0.630398  0.087189  0.206939  0.205224 -0.914662  0.125875   \n",
              "\n",
              "                 VNQ       PBS       PBJ       KCE       KIE       KBE  \\\n",
              "datadate                                                                 \n",
              "2007-01-04  0.051180  0.415470  0.101186  0.003972  0.025898 -0.023448   \n",
              "2007-01-05 -0.928184 -0.589853 -0.641238 -0.128270 -0.383558 -0.453157   \n",
              "2007-01-08  0.058826 -0.023145 -0.089520  0.830108  0.017885  0.105853   \n",
              "2007-01-09  0.612228  0.108683  0.033956  0.222439 -0.180146 -0.099524   \n",
              "2007-01-10  0.623711  0.064578  0.774545  0.790663  0.051090  0.052515   \n",
              "\n",
              "                 XSD       ITB       ITA       IHI       IHF       IHE  \\\n",
              "datadate                                                                 \n",
              "2007-01-04  1.050519 -0.432476 -0.124127  0.212696 -0.077886  0.830709   \n",
              "2007-01-05 -0.883524 -0.458249 -0.392560 -0.356087 -0.587440 -0.499629   \n",
              "2007-01-08  0.048455 -0.935263  0.797693  0.766654  0.476755 -0.002889   \n",
              "2007-01-09  0.221217  0.066283 -0.109652  0.484508 -0.918438  0.355871   \n",
              "2007-01-10  0.877783  0.010136  0.536434  0.176604  0.214413 -0.065151   \n",
              "\n",
              "                 IEZ       FDN  \n",
              "datadate                        \n",
              "2007-01-04 -1.160044  2.666506  \n",
              "2007-01-05 -0.005862 -0.695129  \n",
              "2007-01-08  0.030086 -0.101553  \n",
              "2007-01-09 -0.273454 -0.015801  \n",
              "2007-01-10 -0.665173  0.355830  "
            ]
          },
          "execution_count": 7,
          "metadata": {},
          "output_type": "execute_result"
        }
      ],
      "source": [
        "normed_r = normalize_returns(asset_returns)\n",
        "normed_r.iloc[:, :n_stocks_show].head()"
      ]
    },
    {
      "cell_type": "code",
      "execution_count": 8,
      "metadata": {
        "id": "8iPLcPObLllh"
      },
      "outputs": [],
      "source": [
        "def absorption_ratio(explained_variance_arr, n_components):\n",
        "    \"\"\"\n",
        "    Calculate absorption ratio via PCA.\n",
        "    Arguments:\n",
        "    explained_variance_arr -- 1D np.array of explained variance by each pricincipal component, in descending order\n",
        "    n_components -- an integer, a number of principal components to compute absorption ratio\n",
        "    Formally, the ratio is defined by the variance absorbed by the first n eigenvectors\n",
        "    The numerator equals the cumulative variance explained by the first n eigenvectors (=n_components)\n",
        "    And the denominator equals the total variance\n",
        "    Return:\n",
        "    ar -- absorption ratio\n",
        "    \"\"\"\n",
        "    ar = np.sum(explained_variance_arr[:n_components]) / np.sum(explained_variance_arr)\n",
        "    return ar"
      ]
    },
    {
      "cell_type": "code",
      "execution_count": 9,
      "metadata": {
        "colab": {
          "base_uri": "https://localhost:8080/"
        },
        "id": "QMsXUiG0Lllh",
        "outputId": "5379a576-243a-44d6-8ceb-e58d5407ea7e"
      },
      "outputs": [
        {
          "name": "stdout",
          "output_type": "stream",
          "text": [
            "Lookback window = 252\n",
            "Step size = 1\n",
            "Variance Threshold =  0.8\n",
            "Number of assets = 20\n",
            "Number of principal components = 4\n"
          ]
        }
      ],
      "source": [
        "stock_tickers = asset_returns.columns.values[:]\n",
        "assert 'SPX' not in stock_tickers, \"By accident included SPX index\"\n",
        "\n",
        "lookback_window = 252 * 1   # in (days)\n",
        "num_assets = len(stock_tickers)\n",
        "step_size = 1          # days : 5 - weekly, 21 - monthly, 63 - quarterly\n",
        "\n",
        "# require 0.8 variance to be explained.\n",
        "var_threshold = 0.8\n",
        "\n",
        "# fix 20% of principal components for absorption ratio calculation.\n",
        "absorb_comp = int((1 / 5) * num_assets)\n",
        "\n",
        "\n",
        "print('Lookback window = %d' % lookback_window)\n",
        "print('Step size = %d' % step_size)\n",
        "print('Variance Threshold = ', var_threshold)\n",
        "print('Number of assets = %d' % num_assets)\n",
        "print('Number of principal components = %d' % absorb_comp)"
      ]
    },
    {
      "cell_type": "code",
      "execution_count": 10,
      "metadata": {
        "id": "1jQiUVsxLlli"
      },
      "outputs": [],
      "source": [
        "# indexes date on which to compute PCA\n",
        "days_offset = 4 * 252\n",
        "num_days = 6 * 252 + days_offset\n",
        "pca_ts_index = asset_returns.index[list(range(2100, 3271, step_size))]\n",
        "\n",
        "# allocate arrays for storing absorption ratio\n",
        "pca_components = np.array([np.nan]*len(pca_ts_index))\n",
        "absorp_ratio = np.array([np.nan]*len(pca_ts_index))\n",
        "kmo = np.array([np.nan]*len(pca_ts_index))\n",
        "\n",
        "assert 'SPX' not in asset_returns.iloc[:lookback_window, :].columns.values, \"By accident included SPX index\""
      ]
    },
    {
      "cell_type": "markdown",
      "metadata": {
        "id": "6xJfrhQOLlli"
      },
      "source": [
        "**What this loop does**\n",
        "- on each loop iteration:\n",
        "    - fits PCA to **ret_frame**\n",
        "    - uses fitted pca model to pass values to absorption_ratio().\n",
        "    - computes the number of principal components it takes to explain at least **var_threshold** of variance. The result of this calculation goes into **pca_components[ik]**. The result of the absorption ratio calculation goes into **absorp_ratio[ik]**.  The result of the KMO statistic calculation goes into **kmo[ik]**."
      ]
    },
    {
      "cell_type": "code",
      "execution_count": 11,
      "metadata": {
        "id": "8govyRxFLlli"
      },
      "outputs": [],
      "source": [
        "# import time\n",
        "\n",
        "# ik = 0\n",
        "# time_start = time.time()\n",
        "\n",
        "# result_print = []\n",
        "# for ix in range(lookback_window + days_offset, min(num_days, len(asset_returns)), step_size):\n",
        "#     ret_frame = normalize_returns(asset_returns.iloc[ix - lookback_window:ix, :]) # fixed window\n",
        "#     ret_frame_kmo = ret_frame.copy(deep=True)\n",
        "#     ret_frame = ret_frame.ewm(halflife=252/12).mean()\n",
        "#     # cov_mat = ret_frame.cov()\n",
        "\n",
        "#     if ik == 0 or ik % 21 == 0:\n",
        "#         ### fit PCA, compute the pca components and absorption ratio\n",
        "#         ### store results into pca_components[ik] and absorp_ratio[ik]\n",
        "#         #instantiate pca object\n",
        "#         pca = sklearn.decomposition.PCA()\n",
        "#         #fit pca to ret_frame\n",
        "#         pca.fit(ret_frame)\n",
        "#         #Using ret_frame_kmo, calculate the KMO statistic (=kmo_total) and assign it to kmo[ik].\n",
        "#         kmo_per_variable, kmo_total=calculate_kmo(ret_frame_kmo)\n",
        "#         kmo[ik] = kmo_total\n",
        "#         #calculate the number of components needed to explain the var_threshold and assign it to pca_components[ik]\n",
        "#         explained_variance = np.cumsum(pca.explained_variance_ratio_)\n",
        "#         pca_components[ik] = np.where(np.logical_not(explained_variance < var_threshold))[0][0] + 1\n",
        "#         #calculate the absorption ratio by calling absorption_ratio() and assign it to absorp_ratio[ik]\n",
        "#         #when you run this loop you can try various settings for the parameter n_components (now set to absorb_comp) in this absorption_ratio function.\n",
        "#         absorp_ratio[ik] = absorption_ratio(pca.explained_variance_ratio_, absorb_comp)\n",
        "#         result_print.append(explained_variance)\n",
        "#     else:\n",
        "#         absorp_ratio[ik] = absorp_ratio[ik-1]\n",
        "#         pca_components[ik] = pca_components[ik-1]\n",
        "#         kmo[ik] = kmo[ik-1]\n",
        "\n",
        "#     ik += 1\n",
        "\n",
        "# print ('Absorption Ratio done! Time elapsed: {} seconds'.format(time.time() - time_start))\n",
        "# ts_pca_components = pd.Series(pca_components, index=pca_ts_index)\n",
        "# ts_absorb_ratio = pd.Series(absorp_ratio, index=pca_ts_index)"
      ]
    },
    {
      "cell_type": "code",
      "execution_count": 12,
      "metadata": {
        "id": "eeJjYhKON5wx"
      },
      "outputs": [],
      "source": [
        "# print(absorp_ratio)"
      ]
    },
    {
      "cell_type": "code",
      "execution_count": 13,
      "metadata": {
        "colab": {
          "base_uri": "https://localhost:8080/"
        },
        "id": "dRJFMjgVXlTn",
        "outputId": "71ec6a2e-802d-4afd-f784-c342e66f176f"
      },
      "outputs": [
        {
          "name": "stderr",
          "output_type": "stream",
          "text": [
            "c:\\Users\\chuiy\\miniconda3\\envs\\aps1052\\lib\\site-packages\\factor_analyzer\\utils.py:248: UserWarning: The inverse of the variance-covariance matrix was calculated using the Moore-Penrose generalized matrix inversion, due to its determinant being at or very close to zero.\n",
            "  warnings.warn('The inverse of the variance-covariance matrix '\n"
          ]
        },
        {
          "name": "stdout",
          "output_type": "stream",
          "text": [
            "Absorption Ratio done! Time elapsed: 3.1391615867614746 seconds\n"
          ]
        }
      ],
      "source": [
        "import time\n",
        "\n",
        "ik = 0\n",
        "time_start = time.time()\n",
        "\n",
        "result_print = []\n",
        "for ix in range(2100, 3271, step_size):\n",
        "    ret_frame = normalize_returns(asset_returns.iloc[ix - lookback_window:ix, :]) # fixed window\n",
        "    ret_frame_kmo = ret_frame.copy(deep=True)\n",
        "    ret_frame = ret_frame.ewm(halflife=252/12).mean()\n",
        "    cov_mat = ret_frame.cov()\n",
        "\n",
        "    if ik == 0 or ik % 21 == 0:\n",
        "        eigenvalues, eigenvectors = np.linalg.eig(cov_mat)\n",
        "        sorted_indices = np.argsort(eigenvalues)[::-1]\n",
        "\n",
        "        eigenvalues = eigenvalues[sorted_indices]\n",
        "        explained_variance_ratio = eigenvalues / np.sum(eigenvalues)\n",
        "        explained_variance = np.cumsum(explained_variance_ratio)\n",
        "\n",
        "        ar = np.sum(explained_variance_ratio[:absorb_comp]) / np.sum(explained_variance_ratio)\n",
        "        absorp_ratio[ik] = ar\n",
        "\n",
        "        kmo_per_variable, kmo_total=calculate_kmo(ret_frame_kmo)\n",
        "        kmo[ik] = kmo_total\n",
        "        pca_components[ik] = np.where(np.logical_not(explained_variance < var_threshold))[0][0] + 1\n",
        "\n",
        "\n",
        "\n",
        "    else:\n",
        "        absorp_ratio[ik] = absorp_ratio[ik-1]\n",
        "        pca_components[ik] = pca_components[ik-1]\n",
        "        kmo[ik] = kmo[ik-1]\n",
        "\n",
        "    ik += 1\n",
        "\n",
        "print ('Absorption Ratio done! Time elapsed: {} seconds'.format(time.time() - time_start))\n",
        "ts_pca_components = pd.Series(pca_components, index=pca_ts_index)\n",
        "ts_absorb_ratio = pd.Series(absorp_ratio, index=pca_ts_index)"
      ]
    },
    {
      "cell_type": "code",
      "execution_count": 14,
      "metadata": {
        "colab": {
          "base_uri": "https://localhost:8080/"
        },
        "id": "WGnMbiadany5",
        "outputId": "6750c13b-de1b-4e93-82b9-4bb7d6b2faa2"
      },
      "outputs": [
        {
          "name": "stdout",
          "output_type": "stream",
          "text": [
            "[0.84565531 0.84565531 0.84565531 ... 0.95098489 0.95098489 0.95098489]\n"
          ]
        }
      ],
      "source": [
        "print(absorp_ratio)"
      ]
    },
    {
      "cell_type": "code",
      "execution_count": 15,
      "metadata": {
        "colab": {
          "base_uri": "https://localhost:8080/"
        },
        "id": "rjjtikn9Owi-",
        "outputId": "caf2df71-e623-4305-d73b-02db3f566803"
      },
      "outputs": [
        {
          "data": {
            "text/plain": [
              "array([[0.33480808, 0.06432828, 0.9859043 , 0.79881962, 0.93530045,\n",
              "        0.1621675 , 0.19821712, 0.13850394, 0.24445937, 0.48243054,\n",
              "        0.48016729, 0.50564051, 0.12468434, 0.12669565, 0.69526217,\n",
              "        0.10329081, 0.61982303, 0.07318422, 0.37816409, 0.33635813],\n",
              "       [0.99142059, 0.70808142, 0.50364369, 0.07853983, 0.31499868,\n",
              "        0.17965789, 0.50196135, 0.9927364 , 0.19265312, 0.40967723,\n",
              "        0.46726362, 0.51273694, 0.69195715, 0.98756585, 0.57372977,\n",
              "        0.90829507, 0.31518958, 0.46368639, 0.78999169, 0.2675712 ],\n",
              "       [0.14481609, 0.06781811, 0.49302514, 0.4814038 , 0.3652085 ,\n",
              "        0.65382121, 0.37985231, 0.33831005, 0.03050808, 0.08354249,\n",
              "        0.55839522, 0.9311997 , 0.67281089, 0.23249476, 0.55568151,\n",
              "        0.3023818 , 0.93390823, 0.76272799, 0.07098976, 0.32255775],\n",
              "       [0.37142927, 0.12350949, 0.0463255 , 0.58274251, 0.66379773,\n",
              "        0.56097066, 0.21943485, 0.62829391, 0.04674079, 0.76846792,\n",
              "        0.01171048, 0.53810001, 0.00691065, 0.16118464, 0.57533224,\n",
              "        0.48842161, 0.98434735, 0.51643764, 0.86597394, 0.1697453 ],\n",
              "       [0.15145116, 0.09119374, 0.59435423, 0.42315369, 0.84845644,\n",
              "        0.81270024, 0.1342201 , 0.39896253, 0.14940796, 0.93365453,\n",
              "        0.0239117 , 0.27866756, 0.91790429, 0.48857047, 0.80564021,\n",
              "        0.91323906, 0.98326729, 0.34907837, 0.44979724, 0.19832651],\n",
              "       [0.35884821, 0.3820356 , 0.65018018, 0.11503879, 0.69886884,\n",
              "        0.02903328, 0.50916526, 0.55866862, 0.75136658, 0.72795221,\n",
              "        0.76546412, 0.54763466, 0.0079135 , 0.53945711, 0.20560438,\n",
              "        0.32120342, 0.97657933, 0.28662386, 0.68435933, 0.98618098],\n",
              "       [0.8871312 , 0.33064732, 0.12093854, 0.96334399, 0.90318215,\n",
              "        0.7832261 , 0.76091444, 0.37742759, 0.36361286, 0.72708548,\n",
              "        0.32801077, 0.25870942, 0.19133676, 0.16638857, 0.9128976 ,\n",
              "        0.01503649, 0.5727527 , 0.83075182, 0.50367475, 0.93269224],\n",
              "       [0.13470364, 0.15586433, 0.75307399, 0.37140374, 0.79579095,\n",
              "        0.58246107, 0.46435212, 0.41366651, 0.34620791, 0.61751723,\n",
              "        0.39739454, 0.37650679, 0.13592063, 0.66435182, 0.00900584,\n",
              "        0.41558609, 0.368487  , 0.03504852, 0.06828629, 0.45360776],\n",
              "       [0.22544528, 0.74261022, 0.74259193, 0.85328877, 0.17146789,\n",
              "        0.3716534 , 0.69396914, 0.61319643, 0.21793026, 0.5109769 ,\n",
              "        0.81335327, 0.9397216 , 0.6777975 , 0.96454651, 0.70912077,\n",
              "        0.43251942, 0.64140988, 0.54065516, 0.42182349, 0.82591861],\n",
              "       [0.17235898, 0.49667444, 0.68637233, 0.11392081, 0.49406823,\n",
              "        0.36485913, 0.65417593, 0.80571158, 0.32610221, 0.75570799,\n",
              "        0.45728597, 0.71661412, 0.27736291, 0.69671735, 0.76917936,\n",
              "        0.3711251 , 0.16790377, 0.32560864, 0.58026235, 0.98492818],\n",
              "       [0.63394735, 0.02021432, 0.72636833, 0.28713071, 0.24777002,\n",
              "        0.76640439, 0.02858364, 0.90833155, 0.30889796, 0.14297131,\n",
              "        0.91206737, 0.64520223, 0.24531088, 0.74127037, 0.10306037,\n",
              "        0.57972505, 0.83224879, 0.93321773, 0.49934132, 0.4248264 ],\n",
              "       [0.03321186, 0.01065808, 0.91319776, 0.10237915, 0.56336561,\n",
              "        0.07954728, 0.50762303, 0.14707141, 0.88157548, 0.77617228,\n",
              "        0.84889456, 0.5330929 , 0.16676843, 0.27070692, 0.64259653,\n",
              "        0.03959606, 0.14677509, 0.52146005, 0.90352081, 0.76017537],\n",
              "       [0.35030425, 0.62692249, 0.17513158, 0.67102071, 0.15607778,\n",
              "        0.41952997, 0.30027631, 0.10282335, 0.87523971, 0.76720222,\n",
              "        0.9419229 , 0.6281028 , 0.53875618, 0.3191324 , 0.51701585,\n",
              "        0.22806975, 0.11854504, 0.85472096, 0.53647265, 0.06657346],\n",
              "       [0.4072271 , 0.043827  , 0.19027003, 0.61593751, 0.34974994,\n",
              "        0.66662126, 0.83639903, 0.36206231, 0.21162557, 0.05115195,\n",
              "        0.94838508, 0.11390122, 0.5400344 , 0.73378655, 0.96197692,\n",
              "        0.47427128, 0.79527674, 0.37423992, 0.36680495, 0.09881127],\n",
              "       [0.93033034, 0.31353243, 0.62841992, 0.56619153, 0.33068137,\n",
              "        0.23733943, 0.86772293, 0.10969109, 0.65455252, 0.23848706,\n",
              "        0.23670824, 0.00631684, 0.31880817, 0.42056372, 0.32961021,\n",
              "        0.12094779, 0.72750168, 0.0381556 , 0.83487144, 0.58773013],\n",
              "       [0.21586078, 0.09182051, 0.77617149, 0.1387811 , 0.18956448,\n",
              "        0.32964596, 0.09754726, 0.01844239, 0.68381184, 0.7572388 ,\n",
              "        0.04440307, 0.79375949, 0.51379821, 0.33919147, 0.91912386,\n",
              "        0.87437414, 0.64696753, 0.49364001, 0.03940036, 0.05645849],\n",
              "       [0.17516595, 0.11829733, 0.47553191, 0.22453936, 0.25410207,\n",
              "        0.97404503, 0.97363366, 0.86644255, 0.91257451, 0.58682023,\n",
              "        0.5231836 , 0.97592725, 0.89367947, 0.0204312 , 0.08124033,\n",
              "        0.37516458, 0.08945035, 0.63741889, 0.39618148, 0.43108329],\n",
              "       [0.45132213, 0.11171013, 0.70236431, 0.45091034, 0.88509   ,\n",
              "        0.95538091, 0.70641619, 0.6342514 , 0.89060227, 0.81630501,\n",
              "        0.85312518, 0.87869293, 0.91308079, 0.443035  , 0.55426757,\n",
              "        0.18747754, 0.80969002, 0.25600545, 0.91803348, 0.57705755],\n",
              "       [0.62493551, 0.59286563, 0.13339296, 0.63206747, 0.48270491,\n",
              "        0.26987821, 0.28307193, 0.02208341, 0.74882419, 0.82143202,\n",
              "        0.70328622, 0.01624451, 0.94688472, 0.84517637, 0.41049085,\n",
              "        0.58006907, 0.61947406, 0.71374194, 0.04771067, 0.51313809],\n",
              "       [0.54812392, 0.67711014, 0.8803543 , 0.86913054, 0.64030986,\n",
              "        0.46423697, 0.55622233, 0.49598769, 0.7447454 , 0.10462147,\n",
              "        0.29248603, 0.20010999, 0.83949407, 0.61934609, 0.23094402,\n",
              "        0.54026492, 0.69369748, 0.93211102, 0.28124992, 0.76174354]])"
            ]
          },
          "execution_count": 15,
          "metadata": {},
          "output_type": "execute_result"
        }
      ],
      "source": [
        "covs = np.random.random((20,20))\n",
        "covs"
      ]
    },
    {
      "cell_type": "code",
      "execution_count": 16,
      "metadata": {
        "colab": {
          "base_uri": "https://localhost:8080/"
        },
        "id": "9o8pekC2n5C2",
        "outputId": "f415c756-132b-4b10-f578-d957a15eb93e"
      },
      "outputs": [
        {
          "data": {
            "text/plain": [
              "(252, 20)"
            ]
          },
          "execution_count": 16,
          "metadata": {},
          "output_type": "execute_result"
        }
      ],
      "source": [
        "ret_frame.shape"
      ]
    },
    {
      "cell_type": "markdown",
      "metadata": {
        "id": "PuCS2MtcLlli"
      },
      "source": [
        "The value of the KMO statistic should be between .6 and 1. Change the number of years (with a year defined in terms of 252 trading days) in the lookback window to get the minimum KMO below to be close to 0.944286628546701. The KMO statistic and AR tell us similar information:"
      ]
    },
    {
      "cell_type": "code",
      "execution_count": 17,
      "metadata": {
        "colab": {
          "base_uri": "https://localhost:8080/"
        },
        "id": "F4LmRilZLlli",
        "outputId": "a068ae0c-a826-4929-f3e8-a44d84a3bef5"
      },
      "outputs": [
        {
          "data": {
            "text/plain": [
              "0.8744668854149518"
            ]
          },
          "execution_count": 17,
          "metadata": {},
          "output_type": "execute_result"
        }
      ],
      "source": [
        "np.amin(kmo)"
      ]
    },
    {
      "cell_type": "code",
      "execution_count": 18,
      "metadata": {
        "colab": {
          "base_uri": "https://localhost:8080/"
        },
        "id": "VWj-Yac5Llli",
        "outputId": "1c147a3e-8447-4329-882b-a8a7c1bf5704"
      },
      "outputs": [
        {
          "name": "stdout",
          "output_type": "stream",
          "text": [
            "number of components needed to explain 0.8 variance:  1.0\n"
          ]
        }
      ],
      "source": [
        "# require 0.8 variance to be explained. How many components are needed?\n",
        "print('number of components needed to explain 0.8 variance: ', pca_components[len(pca_components)-1])"
      ]
    },
    {
      "cell_type": "code",
      "execution_count": 19,
      "metadata": {
        "colab": {
          "base_uri": "https://localhost:8080/"
        },
        "id": "G5x4eN-WLllj",
        "outputId": "a68aa26e-e5c7-4ace-f027-91ecc75c55f1"
      },
      "outputs": [
        {
          "name": "stdout",
          "output_type": "stream",
          "text": [
            "variance explained by 20% of principal components:  0.9509848893740815\n"
          ]
        }
      ],
      "source": [
        "# fix 20% of principal components for absorption ratio calculation. How much variance (in %) do they explain?\n",
        "print('variance explained by 20% of principal components: ', explained_variance[absorb_comp-1])"
      ]
    },
    {
      "cell_type": "code",
      "execution_count": 20,
      "metadata": {
        "colab": {
          "base_uri": "https://localhost:8080/",
          "height": 447
        },
        "id": "EAhdzbFbLllj",
        "outputId": "09a5a5a7-7fa1-4c91-c4d3-37fd9ab2059f"
      },
      "outputs": [
        {
          "data": {
            "text/plain": [
              "<AxesSubplot:>"
            ]
          },
          "execution_count": 20,
          "metadata": {},
          "output_type": "execute_result"
        },
        {
          "data": {
            "image/png": "[encoded data removed]",
            "text/plain": [
              "<Figure size 432x288 with 1 Axes>"
            ]
          },
          "metadata": {
            "needs_background": "light"
          },
          "output_type": "display_data"
        }
      ],
      "source": [
        "pd.DataFrame(pca_components).plot()"
      ]
    },
    {
      "cell_type": "code",
      "execution_count": 21,
      "metadata": {
        "colab": {
          "base_uri": "https://localhost:8080/",
          "height": 526
        },
        "id": "Tz3QS4tRLllj",
        "outputId": "2e0ffabf-b172-49fa-fd8f-715a40419cd1"
      },
      "outputs": [
        {
          "data": {
            "image/png": "[encoded data removed]",
            "text/plain": [
              "<Figure size 864x432 with 1 Axes>"
            ]
          },
          "metadata": {
            "needs_background": "light"
          },
          "output_type": "display_data"
        }
      ],
      "source": [
        "ts_absorb_ratio.plot(figsize=(12,6), title='Absorption Ratio via PCA', linewidth=3)\n",
        "plt.savefig(\"Absorption_Ratio_20i.png\", dpi=900)"
      ]
    },
    {
      "cell_type": "markdown",
      "metadata": {
        "id": "LilWxT9VLllj"
      },
      "source": [
        "STEP 2:\n",
        "Having computed the Absorption Ratio as a daily times series, we define AR Delta. AR Delta is the standardized change of the absorption ratio over time. The standardized change is essentially a z-score to allow us to detect high outliers of change\n",
        "In particular:\n",
        "$$ AR\\delta = \\frac{AR_{15d} - AR_{1y}}{ AR\\sigma_{1y}}$$\n",
        "We use  $AR\\delta$ to build simple portfolio trading strategy"
      ]
    },
    {
      "cell_type": "code",
      "execution_count": 22,
      "metadata": {
        "colab": {
          "base_uri": "https://localhost:8080/",
          "height": 537
        },
        "id": "Xc0iCMY4Lllj",
        "outputId": "5937d434-b47a-4b9b-84b9-f40ea181c39b"
      },
      "outputs": [
        {
          "data": {
            "image/png": "[encoded data removed]",
            "text/plain": [
              "<Figure size 864x432 with 2 Axes>"
            ]
          },
          "metadata": {
            "needs_background": "light"
          },
          "output_type": "display_data"
        }
      ],
      "source": [
        "# following Kritzman and computing AR_delta = (15d_AR -1yr_AR) / sigma_AR\n",
        "ts_ar = ts_absorb_ratio\n",
        "ar_mean_1yr = ts_ar.rolling(252).mean()\n",
        "ar_mean_15d = ts_ar.rolling(15).mean()\n",
        "ar_sd_1yr = ts_ar.rolling(252).std()\n",
        "ar_delta = (ar_mean_15d - ar_mean_1yr) / ar_sd_1yr  # standardized shift in absorption ratio\n",
        "\n",
        "df_plot = pd.DataFrame({'AR_delta': ar_delta.values, 'AR_1yr': ar_mean_1yr.values, 'AR_15d': ar_mean_15d.values},\n",
        "                       index=ts_ar.index)\n",
        "df_plot = df_plot.dropna()\n",
        "if df_plot.shape[0] > 0:\n",
        "    df_plot.plot(figsize=(12, 6), title='Absorption Ratio Delta', linewidth=3, secondary_y=['AR_1yr','AR_15d'])"
      ]
    },
    {
      "cell_type": "markdown",
      "metadata": {
        "id": "btkYU7IWLllj"
      },
      "source": [
        "#### Part 3 (AR Delta Trading Strategy)\n",
        "\n",
        "Here we implement get_weight() function\n",
        "\n",
        "The AR Delta trading strategy forms a portfolio of EQ (equities=stocks) and FI (fixed income=bonds), following these simple rules:\n",
        "\n",
        "* __$ -1\\sigma < AR\\delta < +1\\sigma $__\t 50% / 50% weights for EQ / FI\n",
        "* __$ AR\\delta > +1\\sigma $__\t             0% / 100% weights for EQ / FI\n",
        "* __$ AR\\delta < -1\\sigma $__\t             100% / 0% weights for EQ / FI\n",
        "\n",
        "Here we compute AR Delta strategy weights using data from the same data set. As expected, the average number of trades per year is very low."
      ]
    },
    {
      "cell_type": "code",
      "execution_count": 23,
      "metadata": {
        "id": "GcOFZ6H1Lllk"
      },
      "outputs": [],
      "source": [
        "def get_weight(ar_delta):\n",
        "    '''\n",
        "    Calculate EQuity / FIncome portfolio weights based on Absorption Ratio delta\n",
        "    Arguments:\n",
        "    ar_delta -- Absorption Ratio delta\n",
        "\n",
        "    Return:\n",
        "        wgts -- a vector of portfolio weights\n",
        "    '''\n",
        "    wgts = [0.0, 0.0] # replace with your own calculation here\n",
        "    if ar_delta < -1:\n",
        "        wgts = [1, 0]\n",
        "    elif ar_delta > 1:\n",
        "        wgts = [0, 1]\n",
        "    else:\n",
        "        wgts = [.5, .5]\n",
        "    return wgts"
      ]
    },
    {
      "cell_type": "code",
      "execution_count": 24,
      "metadata": {
        "colab": {
          "base_uri": "https://localhost:8080/"
        },
        "id": "JD9RiKP2Lllk",
        "outputId": "021882b5-1866-4441-f239-65ad935a565d"
      },
      "outputs": [
        {
          "name": "stdout",
          "output_type": "stream",
          "text": [
            "Average number of trades per year 4.25\n"
          ]
        }
      ],
      "source": [
        "#Average trades per year\n",
        "ar_delta_data = ar_delta[251:]\n",
        "\n",
        "rebal_dates = np.zeros(len(ar_delta_data))\n",
        "wgts = pd.DataFrame(data=np.zeros((len(ar_delta_data.index), 2)), index=ar_delta_data.index, columns=('EQ', 'FI'))\n",
        "\n",
        "prtf_wgts = get_weight(ar_delta_data.values[0])\n",
        "wgts.iloc[0, :] = prtf_wgts\n",
        "for ix in range(1, len(ar_delta_data)):\n",
        "    prtf_wgts = get_weight(ar_delta_data.values[ix])\n",
        "    wgts.iloc[ix, :] = prtf_wgts\n",
        "    if wgts.iloc[ix-1, :][0] != prtf_wgts[0]:\n",
        "        prtf_wgts = wgts.iloc[ix, :]\n",
        "        rebal_dates[ix] = 1\n",
        "\n",
        "ts_rebal_dates = pd.Series(rebal_dates, index=ar_delta_data.index)\n",
        "ts_trades_per_year = ts_rebal_dates.groupby([ts_rebal_dates.index.year]).sum()\n",
        "print('Average number of trades per year %.2f' % ts_trades_per_year.mean())"
      ]
    },
    {
      "cell_type": "markdown",
      "metadata": {
        "id": "Kswnr0RTLllk"
      },
      "source": [
        "Now that weights have been determined, run the re-balancing strategy using time series of returns and compute\n",
        " - sharpe of the strategy\n",
        " - strategy annualized return\n",
        " - strategy annualized volatility\n",
        "\n",
        "Contrast this with 50 / 50 Equity / Fixed Income ETF strategy performance using the same performance metrics. Use VTI as Equity and AGG as Fixed Income assets."
      ]
    },
    {
      "cell_type": "code",
      "execution_count": 25,
      "metadata": {
        "id": "LN9PqIhoLllk"
      },
      "outputs": [],
      "source": [
        "#1. Go to WRDS CRSP database and obtain the Holding Period Return and ticker for the following industry ETFs:\n",
        "# VTI AGG\n",
        "#the holding period return includes dividends, coupon flows etc.\n",
        "#2. set the starting and ending dates as follows: 1/3/2007 and 12/31/2019\n",
        "#3. Unstack the holding period returns and save the unstacked returns data into a csv file called:\n",
        "# AGG_VTI_UNSTACKED_adjusted_returns.csv"
      ]
    },
    {
      "cell_type": "code",
      "execution_count": 26,
      "metadata": {
        "id": "1so_U3-fLllk"
      },
      "outputs": [],
      "source": [
        "#These are adjusted PERCENT returns of AGG and VTI from WRDS CRSP, including distibutions, coupons, dividends etc.\n",
        "etf_percent_returns = pd.read_csv('AGG_VTI_UNSTACKED_adjusted_returns.csv')\n",
        "etf_percent_returns[\"datadate\"]=pd.to_datetime(etf_percent_returns['datadate'])\n",
        "etf_percent_returns.set_index(['datadate'], inplace=True)\n",
        "etf_log_returns = np.log(etf_percent_returns + 1)\n",
        "#decide which return you are going to use by uncommenting a or b below (only a or b is correct, not both):\n",
        "#a:\n",
        "#etf_returns = etf_log_returns.copy()\n",
        "#b:\n",
        "etf_returns = etf_percent_returns.copy()"
      ]
    },
    {
      "cell_type": "code",
      "execution_count": 27,
      "metadata": {
        "colab": {
          "base_uri": "https://localhost:8080/",
          "height": 255
        },
        "id": "piOxn3iVLllk",
        "outputId": "6092d628-b713-4b61-8239-a5f7a1edaece"
      },
      "outputs": [
        {
          "name": "stdout",
          "output_type": "stream",
          "text": [
            "Asset holding period returns shape (3271, 2)\n"
          ]
        },
        {
          "data": {
            "text/html": [
              "<div>\n",
              "<style scoped>\n",
              "    .dataframe tbody tr th:only-of-type {\n",
              "        vertical-align: middle;\n",
              "    }\n",
              "\n",
              "    .dataframe tbody tr th {\n",
              "        vertical-align: top;\n",
              "    }\n",
              "\n",
              "    .dataframe thead th {\n",
              "        text-align: right;\n",
              "    }\n",
              "</style>\n",
              "<table border=\"1\" class=\"dataframe\">\n",
              "  <thead>\n",
              "    <tr style=\"text-align: right;\">\n",
              "      <th></th>\n",
              "      <th>AGG</th>\n",
              "      <th>VTI</th>\n",
              "    </tr>\n",
              "    <tr>\n",
              "      <th>datadate</th>\n",
              "      <th></th>\n",
              "      <th></th>\n",
              "    </tr>\n",
              "  </thead>\n",
              "  <tbody>\n",
              "    <tr>\n",
              "      <th>2007-01-03</th>\n",
              "      <td>0.002106</td>\n",
              "      <td>-0.001854</td>\n",
              "    </tr>\n",
              "    <tr>\n",
              "      <th>2007-01-04</th>\n",
              "      <td>0.002102</td>\n",
              "      <td>0.002001</td>\n",
              "    </tr>\n",
              "    <tr>\n",
              "      <th>2007-01-05</th>\n",
              "      <td>-0.000699</td>\n",
              "      <td>-0.007916</td>\n",
              "    </tr>\n",
              "    <tr>\n",
              "      <th>2007-01-08</th>\n",
              "      <td>0.000600</td>\n",
              "      <td>0.003666</td>\n",
              "    </tr>\n",
              "    <tr>\n",
              "      <th>2007-01-09</th>\n",
              "      <td>0.000000</td>\n",
              "      <td>0.000000</td>\n",
              "    </tr>\n",
              "  </tbody>\n",
              "</table>\n",
              "</div>"
            ],
            "text/plain": [
              "                 AGG       VTI\n",
              "datadate                      \n",
              "2007-01-03  0.002106 -0.001854\n",
              "2007-01-04  0.002102  0.002001\n",
              "2007-01-05 -0.000699 -0.007916\n",
              "2007-01-08  0.000600  0.003666\n",
              "2007-01-09  0.000000  0.000000"
            ]
          },
          "execution_count": 27,
          "metadata": {},
          "output_type": "execute_result"
        }
      ],
      "source": [
        "n_stocks_show = 2\n",
        "print('Asset holding period returns shape', etf_returns.shape)\n",
        "etf_returns.iloc[:, :n_stocks_show].head()"
      ]
    },
    {
      "cell_type": "markdown",
      "metadata": {
        "id": "7b2gVuSTLlln"
      },
      "source": [
        "#### Part 4 (Calculate performance of backtested strategy)\n",
        "\n",
        "Here we implement function backtest_strategy which given a DataFrame of strategy weights and a DataFrame asset returns annualized return, volatility and Sharpe ratio of a strategy. Our solution has a shape ratio above 1 and the absorption ratio portfolio beats the equally weighted portfolio."
      ]
    },
    {
      "cell_type": "code",
      "execution_count": 28,
      "metadata": {
        "id": "-cRnqrvFLllo"
      },
      "outputs": [],
      "source": [
        "def backtest_strategy(strat_wgts, asset_returns, periods_per_year = 252):\n",
        "    '''\n",
        "    Calculate portfolio returns and cumulative returns and portfolio strategy performance\n",
        "    Arguments:\n",
        "\n",
        "    strat_wgts -- pandas.DataFrame of weights of the assets\n",
        "    asset_returns -- pandas.DataFrame of asset returns\n",
        "    periods_per_year -- number of return observations per year\n",
        "\n",
        "    Return:\n",
        "        (ann_ret, ann_vol, sharpe) -- a tuple of (annualized return, annualized volatility, sharpe ratio)\n",
        "    before returning plot the cumulative return of the EWM+AGG portfolio\n",
        "    '''\n",
        "    df_all=pd.merge(strat_wgts,asset_returns, left_index=True, right_index=True, how='inner')\n",
        "    df_all['EQ_part'] = df_all.EQ*df_all.VTI\n",
        "    df_all['FI_part'] = df_all.FI*df_all.AGG\n",
        "    df_all['PORT_ret']=df_all.EQ_part+df_all.FI_part\n",
        "\n",
        "    average_arithmetic_return = df_all.PORT_ret.mean()\n",
        "    annualized_return = average_arithmetic_return*periods_per_year\n",
        "    annualized_vol = df_all.PORT_ret.std()*np.sqrt(periods_per_year)\n",
        "    annualized_sharpe = (df_all.PORT_ret.mean()/df_all.PORT_ret.std())*np.sqrt(periods_per_year) #classic definition\n",
        "    #before returning plot the cumulative return of the EWM+AGG portfolio\n",
        "    df_all['PORT_ret'] = df_all.PORT_ret + 1\n",
        "    df_all['Cum_PORT_ret'] = df_all.PORT_ret.cumprod()-1+1\n",
        "    df_all['Cum_PORT_ret'].plot()\n",
        "    print(len(df_all['Cum_PORT_ret']))\n",
        "    return annualized_return, annualized_vol, annualized_sharpe, df_all['Cum_PORT_ret']\n"
      ]
    },
    {
      "cell_type": "code",
      "execution_count": 31,
      "metadata": {
        "colab": {
          "base_uri": "https://localhost:8080/",
          "height": 506
        },
        "id": "3pX4cfpTLllo",
        "outputId": "8019270b-1e47-44fd-d49a-cb224ee2a918"
      },
      "outputs": [
        {
          "name": "stdout",
          "output_type": "stream",
          "text": [
            "920\n",
            "Absorption Ratio strategy: 0.09055387173913043 0.07517505360762912 1.2045734242075832\n",
            "920\n",
            "Equally weighted: 0.0896055847826087 0.0613439064207015 1.4607088138157736\n"
          ]
        },
        {
          "data": {
            "image/png": "[encoded data removed]",
            "text/plain": [
              "<Figure size 432x288 with 1 Axes>"
            ]
          },
          "metadata": {
            "needs_background": "light"
          },
          "output_type": "display_data"
        }
      ],
      "source": [
        "ann_ret, ann_vol, sharpe, Cum_PORT_ret = backtest_strategy(wgts, etf_returns)\n",
        "print('Absorption Ratio strategy:', ann_ret, ann_vol, sharpe)\n",
        "\n",
        "eq_wgts = wgts.copy()\n",
        "eq_wgts.iloc[:, ] = 0.5\n",
        "ann_ret_eq_wgt, ann_vol_eq_wgt, sharpe_eq_wgt, Cum_PORT_ret_eq_wgt = backtest_strategy(eq_wgts, etf_returns)\n",
        "print('Equally weighted:', ann_ret_eq_wgt, ann_vol_eq_wgt, sharpe_eq_wgt)\n",
        "\n",
        "Cum_PORT_ret.to_csv('Cum_PORT_ret.csv')\n",
        "Cum_PORT_ret_eq_wgt.to_csv('Cum_PORT_ret_eq_wgt.csv')"
      ]
    }
  ],
  "metadata": {
    "anaconda-cloud": {},
    "celltoolbar": "Edit Metadata",
    "colab": {
      "provenance": []
    },
    "coursera": {
      "course_slug": "machine-learning-in-finance"
    },
    "kernelspec": {
      "display_name": "Python 3",
      "language": "python",
      "name": "python3"
    },
    "language_info": {
      "codemirror_mode": {
        "name": "ipython",
        "version": 3
      },
      "file_extension": ".py",
      "mimetype": "text/x-python",
      "name": "python",
      "nbconvert_exporter": "python",
      "pygments_lexer": "ipython3",
      "version": "3.6.7"
    }
  },
  "nbformat": 4,
  "nbformat_minor": 0
}
